{
  "nbformat": 4,
  "nbformat_minor": 0,
  "metadata": {
    "colab": {
      "provenance": []
    },
    "kernelspec": {
      "name": "python3",
      "display_name": "Python 3"
    },
    "language_info": {
      "name": "python"
    }
  },
  "cells": [
    {
      "cell_type": "code",
      "execution_count": null,
      "metadata": {
        "id": "KPCILaTZuMFf"
      },
      "outputs": [],
      "source": [
        "#Q.1 Explain the importance of functions"
      ]
    },
    {
      "cell_type": "code",
      "source": [
        "#Structure and Organization: Functions provide a clear way to relate inputs to outputs, helping to organize data and understand relationships between variables.\n",
        "\n",
        "# Problem Solving: They are essential tools for modeling real-world problems, enabling us to formulate solutions in fields like physics, engineering, economics, and biology.\n",
        "\n",
        "# Mathematical Foundation: Functions are foundational in calculus and analysis, allowing for the study of change, limits, and continuity, which are crucial for advanced mathematics.\n",
        "\n",
        "# Programming and Algorithms: In computer science, functions encapsulate code for reusability and modularity, making programs easier to read, maintain, and debug.\n",
        "\n",
        "# Data Analysis: Functions help in analyzing trends and making predictions based on data, which is essential in statistics and machine learning.\n",
        "\n",
        "# Communication: They provide a common language for expressing relationships and concepts, facilitating clearer communication in mathematics and science."
      ],
      "metadata": {
        "id": "_EXGdvp1vmwt"
      },
      "execution_count": null,
      "outputs": []
    },
    {
      "cell_type": "code",
      "source": [
        "#Q.2 Write a basic function to greet students."
      ],
      "metadata": {
        "id": "f7UmuYV2wKUz"
      },
      "execution_count": null,
      "outputs": []
    },
    {
      "cell_type": "code",
      "source": [
        "def greet_students(names):\n",
        "    for name in names:\n",
        "        print(f\"Hello, {name}! Welcome to class!\")\n",
        "\n",
        "students = [\"Alice\", \"Bob\", \"Charlie\"]\n",
        "greet_students(students)"
      ],
      "metadata": {
        "colab": {
          "base_uri": "https://localhost:8080/"
        },
        "id": "u9nOZY23wTbJ",
        "outputId": "0f4b093d-07eb-406e-c0ff-e0514e7025ad"
      },
      "execution_count": null,
      "outputs": [
        {
          "output_type": "stream",
          "name": "stdout",
          "text": [
            "Hello, Alice! Welcome to class!\n",
            "Hello, Bob! Welcome to class!\n",
            "Hello, Charlie! Welcome to class!\n"
          ]
        }
      ]
    },
    {
      "cell_type": "code",
      "source": [
        "#Q.3 What is the difference between print and return statements?"
      ],
      "metadata": {
        "id": "PdMBpTPIwgGR"
      },
      "execution_count": null,
      "outputs": []
    },
    {
      "cell_type": "code",
      "source": [
        "def greet(name):\n",
        "    print(f\"Hello, {name}!\")\n",
        "\n",
        "greet(\"Alice\")"
      ],
      "metadata": {
        "colab": {
          "base_uri": "https://localhost:8080/"
        },
        "id": "K5UWTDSXxMjP",
        "outputId": "583181c1-f423-4dd8-bef7-4e3cc15c502b"
      },
      "execution_count": null,
      "outputs": [
        {
          "output_type": "stream",
          "name": "stdout",
          "text": [
            "Hello, Alice!\n"
          ]
        }
      ]
    },
    {
      "cell_type": "code",
      "source": [
        "def add(a, b):\n",
        "    return a + b\n",
        "\n",
        "result = add(2, 3)"
      ],
      "metadata": {
        "id": "tiSivh1xxfSv"
      },
      "execution_count": null,
      "outputs": []
    },
    {
      "cell_type": "code",
      "source": [
        "print(result)"
      ],
      "metadata": {
        "colab": {
          "base_uri": "https://localhost:8080/"
        },
        "id": "yQSdz1ZjxifP",
        "outputId": "fdcf84a4-9240-4dfd-f81b-db6ed10237f7"
      },
      "execution_count": null,
      "outputs": [
        {
          "output_type": "stream",
          "name": "stdout",
          "text": [
            "5\n"
          ]
        }
      ]
    },
    {
      "cell_type": "code",
      "source": [
        "#Q.4 What are*args and **kwargs?"
      ],
      "metadata": {
        "id": "YAWeWopmyEKX"
      },
      "execution_count": null,
      "outputs": []
    },
    {
      "cell_type": "code",
      "source": [
        "def sum_numbers(*args):\n",
        "    return sum(args)\n",
        "\n",
        "total = sum_numbers(1, 2, 3, 4)"
      ],
      "metadata": {
        "id": "M4IKcjOZ1SmQ"
      },
      "execution_count": null,
      "outputs": []
    },
    {
      "cell_type": "code",
      "source": [
        "total"
      ],
      "metadata": {
        "colab": {
          "base_uri": "https://localhost:8080/"
        },
        "id": "ZazJqpQm1iT_",
        "outputId": "4f0ed074-cc1c-454b-dc19-07810e3486c1"
      },
      "execution_count": null,
      "outputs": [
        {
          "output_type": "execute_result",
          "data": {
            "text/plain": [
              "10"
            ]
          },
          "metadata": {},
          "execution_count": 24
        }
      ]
    },
    {
      "cell_type": "code",
      "source": [
        "def print_info(**kwargs):\n",
        "    for key, value in kwargs.items():\n",
        "        print(f\"{key}: {value}\")\n",
        "\n",
        "print_info(name=\"Alice\", age=25)"
      ],
      "metadata": {
        "colab": {
          "base_uri": "https://localhost:8080/"
        },
        "id": "qxqoE9uO1nD3",
        "outputId": "97b102c5-35b8-4bf6-df24-fa0fc14517c7"
      },
      "execution_count": null,
      "outputs": [
        {
          "output_type": "stream",
          "name": "stdout",
          "text": [
            "name: Alice\n",
            "age: 25\n"
          ]
        }
      ]
    },
    {
      "cell_type": "code",
      "source": [
        "def display_info(*args, **kwargs):\n",
        "    print(\"Positional arguments:\", args)\n",
        "    print(\"Keyword arguments:\", kwargs)\n",
        "\n",
        "display_info(1, 2, 3, name=\"Alice\", age=25)"
      ],
      "metadata": {
        "colab": {
          "base_uri": "https://localhost:8080/"
        },
        "id": "dYZyq9x91td-",
        "outputId": "645f5424-96ef-4078-93a6-e3304c30ed26"
      },
      "execution_count": null,
      "outputs": [
        {
          "output_type": "stream",
          "name": "stdout",
          "text": [
            "Positional arguments: (1, 2, 3)\n",
            "Keyword arguments: {'name': 'Alice', 'age': 25}\n"
          ]
        }
      ]
    },
    {
      "cell_type": "code",
      "source": [
        "#Q.5 Explain the iterator function"
      ],
      "metadata": {
        "id": "h3z1-sm71xOu"
      },
      "execution_count": null,
      "outputs": []
    },
    {
      "cell_type": "code",
      "source": [
        "class MyIterator:\n",
        "    def __init__(self, max):\n",
        "        self.max = max\n",
        "        self.current = 0\n",
        "\n",
        "    def __iter__(self):\n",
        "        return self\n",
        "\n",
        "    def __next__(self):\n",
        "        if self.current < self.max:\n",
        "            result = self.current\n",
        "            self.current += 1\n",
        "            return result\n",
        "        else:\n",
        "            raise StopIteration\n",
        "\n",
        "my_iter = MyIterator(5)\n",
        "for number in my_iter:\n",
        "    print(number)"
      ],
      "metadata": {
        "colab": {
          "base_uri": "https://localhost:8080/"
        },
        "id": "8Iv8GoSO2JO2",
        "outputId": "e0d6a191-2bee-4422-8c11-4001a1aa4732"
      },
      "execution_count": null,
      "outputs": [
        {
          "output_type": "stream",
          "name": "stdout",
          "text": [
            "0\n",
            "1\n",
            "2\n",
            "3\n",
            "4\n"
          ]
        }
      ]
    },
    {
      "cell_type": "code",
      "source": [
        "#Q.6 Write a code that generates the squares of numbers from 1 to n using a generator."
      ],
      "metadata": {
        "id": "n1K2B0pu2PiO"
      },
      "execution_count": null,
      "outputs": []
    },
    {
      "cell_type": "code",
      "source": [
        "def square_generator(n):\n",
        "    for i in range(1, n + 1):\n",
        "        yield i ** 2\n",
        "\n",
        "n = 20\n",
        "squares = square_generator(n)\n",
        "\n",
        "for square in squares:\n",
        "    print(square)"
      ],
      "metadata": {
        "colab": {
          "base_uri": "https://localhost:8080/"
        },
        "id": "jPE5RXQG2rcl",
        "outputId": "ab3474f5-ecb8-45e4-c812-a3e80cb9964c"
      },
      "execution_count": null,
      "outputs": [
        {
          "output_type": "stream",
          "name": "stdout",
          "text": [
            "1\n",
            "4\n",
            "9\n",
            "16\n",
            "25\n",
            "36\n",
            "49\n",
            "64\n",
            "81\n",
            "100\n",
            "121\n",
            "144\n",
            "169\n",
            "196\n",
            "225\n",
            "256\n",
            "289\n",
            "324\n",
            "361\n",
            "400\n"
          ]
        }
      ]
    },
    {
      "cell_type": "code",
      "source": [
        "#Q.7 Write a code that generates palindromic numbers up to n using a generator."
      ],
      "metadata": {
        "id": "LxiaAFHq2vB9"
      },
      "execution_count": null,
      "outputs": []
    },
    {
      "cell_type": "code",
      "source": [
        "def is_palindrome(num):\n",
        "    return str(num) == str(num)[::-1]\n",
        "\n",
        "def palindrome_generator(n):\n",
        "    for i in range(1, n + 1):\n",
        "        if is_palindrome(i):\n",
        "            yield i\n",
        "\n",
        "n = 100\n",
        "palindromes = palindrome_generator(n)\n",
        "\n",
        "for palindrome in palindromes:\n",
        "    print(palindrome)"
      ],
      "metadata": {
        "colab": {
          "base_uri": "https://localhost:8080/"
        },
        "id": "_yCcAZ8H5N25",
        "outputId": "d5152d94-3488-4ac2-f4e2-b9bfd9b0a14f"
      },
      "execution_count": null,
      "outputs": [
        {
          "output_type": "stream",
          "name": "stdout",
          "text": [
            "1\n",
            "2\n",
            "3\n",
            "4\n",
            "5\n",
            "6\n",
            "7\n",
            "8\n",
            "9\n",
            "11\n",
            "22\n",
            "33\n",
            "44\n",
            "55\n",
            "66\n",
            "77\n",
            "88\n",
            "99\n"
          ]
        }
      ]
    },
    {
      "cell_type": "code",
      "source": [
        "#Q.8 Write a code that generates even numbers from 2 to n using a generator."
      ],
      "metadata": {
        "id": "x-gnYnZk5T4o"
      },
      "execution_count": null,
      "outputs": []
    },
    {
      "cell_type": "code",
      "source": [
        "def even_number_generator(n):\n",
        "    for i in range(2, n + 1, 2):\n",
        "        yield i\n",
        "\n",
        "n = 20\n",
        "even_numbers = even_number_generator(n)\n",
        "\n",
        "for even in even_numbers:\n",
        "    print(even)"
      ],
      "metadata": {
        "colab": {
          "base_uri": "https://localhost:8080/"
        },
        "id": "nLskUjjV6Yz-",
        "outputId": "4850d252-6094-4b3a-e990-6b93bb6d0010"
      },
      "execution_count": null,
      "outputs": [
        {
          "output_type": "stream",
          "name": "stdout",
          "text": [
            "2\n",
            "4\n",
            "6\n",
            "8\n",
            "10\n",
            "12\n",
            "14\n",
            "16\n",
            "18\n",
            "20\n"
          ]
        }
      ]
    },
    {
      "cell_type": "code",
      "source": [
        "#Q.9 Write a code that generates powers of two up to n using a generator."
      ],
      "metadata": {
        "id": "PWye-gAg6km2"
      },
      "execution_count": null,
      "outputs": []
    },
    {
      "cell_type": "code",
      "source": [
        "def power_of_two_generator(n):\n",
        "    exponent = 0\n",
        "    while (power := 2 ** exponent) <= n:\n",
        "        yield power\n",
        "        exponent += 1\n",
        "\n",
        "n = 100\n",
        "powers_of_two = power_of_two_generator(n)\n",
        "\n",
        "for power in powers_of_two:\n",
        "    print(power)"
      ],
      "metadata": {
        "colab": {
          "base_uri": "https://localhost:8080/"
        },
        "id": "78GCcfU07C49",
        "outputId": "24eb4d72-fa80-4e30-b0de-2a1d0b044801"
      },
      "execution_count": null,
      "outputs": [
        {
          "output_type": "stream",
          "name": "stdout",
          "text": [
            "1\n",
            "2\n",
            "4\n",
            "8\n",
            "16\n",
            "32\n",
            "64\n"
          ]
        }
      ]
    },
    {
      "cell_type": "code",
      "source": [
        "#Q.10 Write a code that generates prime numbers up to n using a generator."
      ],
      "metadata": {
        "id": "ufoceYno7JkE"
      },
      "execution_count": null,
      "outputs": []
    },
    {
      "cell_type": "code",
      "source": [
        "def generate_primes(n):\n",
        "    primes = []\n",
        "    for num in range(2, n+1):\n",
        "        is_prime = True\n",
        "        for prime in primes:\n",
        "            if prime * prime > num:\n",
        "                break\n",
        "            if num % prime == 0:\n",
        "                is_prime = False\n",
        "                break\n",
        "        if is_prime:\n",
        "            primes.append(num)\n",
        "            yield num\n",
        "\n",
        "n = 50\n",
        "for prime in generate_primes(n):\n",
        "    print(prime)"
      ],
      "metadata": {
        "colab": {
          "base_uri": "https://localhost:8080/"
        },
        "id": "SrzPYFuc7giU",
        "outputId": "33c481cc-8f60-4bda-9caa-623d0892501c"
      },
      "execution_count": null,
      "outputs": [
        {
          "output_type": "stream",
          "name": "stdout",
          "text": [
            "2\n",
            "3\n",
            "5\n",
            "7\n",
            "11\n",
            "13\n",
            "17\n",
            "19\n",
            "23\n",
            "29\n",
            "31\n",
            "37\n",
            "41\n",
            "43\n",
            "47\n"
          ]
        }
      ]
    },
    {
      "cell_type": "code",
      "source": [
        "#Q.11 Write a code that uses a lambda function to calculate the sum of two numbers."
      ],
      "metadata": {
        "id": "_UAjQSkE7quM"
      },
      "execution_count": null,
      "outputs": []
    },
    {
      "cell_type": "code",
      "source": [
        "sum_numbers = lambda a, b: a + b\n",
        "\n",
        "a = 5\n",
        "b = 10\n",
        "result = sum_numbers(a, b)\n",
        "print(f\"The sum of {a} and {b} is: {result}\")"
      ],
      "metadata": {
        "colab": {
          "base_uri": "https://localhost:8080/"
        },
        "id": "CL7PV48a810B",
        "outputId": "4bd1d5e9-cacd-4d69-f7b7-2904ade60dd7"
      },
      "execution_count": null,
      "outputs": [
        {
          "output_type": "stream",
          "name": "stdout",
          "text": [
            "The sum of 5 and 10 is: 15\n"
          ]
        }
      ]
    },
    {
      "cell_type": "code",
      "source": [
        "#Q.12 Write a code that uses a lambda function to calculate the square of a given number."
      ],
      "metadata": {
        "id": "3j_l4VPn863h"
      },
      "execution_count": null,
      "outputs": []
    },
    {
      "cell_type": "code",
      "source": [
        "square = lambda x: x ** 2\n",
        "\n",
        "num = 7\n",
        "result = square(num)\n",
        "print(f\"The square of {num} is: {result}\")"
      ],
      "metadata": {
        "colab": {
          "base_uri": "https://localhost:8080/"
        },
        "id": "oOOIKIP19caw",
        "outputId": "afc45b54-bf20-4476-996d-e8ead1bc3563"
      },
      "execution_count": null,
      "outputs": [
        {
          "output_type": "stream",
          "name": "stdout",
          "text": [
            "The square of 7 is: 49\n"
          ]
        }
      ]
    },
    {
      "cell_type": "code",
      "source": [
        "#Q.13 Write a code that uses a lambda function to check whether a given number is even or odd."
      ],
      "metadata": {
        "id": "kcLzV4vd9h4p"
      },
      "execution_count": null,
      "outputs": []
    },
    {
      "cell_type": "code",
      "source": [
        "is_even = lambda x: \"Even\" if x % 2 == 0 else \"Odd\"\n",
        "\n",
        "num = 7\n",
        "result = is_even(num)\n",
        "print(f\"The number {num} is: {result}\")"
      ],
      "metadata": {
        "colab": {
          "base_uri": "https://localhost:8080/"
        },
        "id": "hOXpRwlZ-Ipn",
        "outputId": "98ee9ba1-7d05-4d7f-a68f-978e79749e61"
      },
      "execution_count": null,
      "outputs": [
        {
          "output_type": "stream",
          "name": "stdout",
          "text": [
            "The number 7 is: Odd\n"
          ]
        }
      ]
    },
    {
      "cell_type": "code",
      "source": [
        "#Q.14 Write a code that uses a lambda function to concatenate two strings."
      ],
      "metadata": {
        "id": "GPIlMB8L-N_v"
      },
      "execution_count": null,
      "outputs": []
    },
    {
      "cell_type": "code",
      "source": [
        "concat_strings = lambda s1, s2: s1 + s2\n",
        "\n",
        "str1 = \"Hello, \"\n",
        "str2 = \"World!\"\n",
        "result = concat_strings(str1, str2)\n",
        "print(f\"The concatenated string is: {result}\")"
      ],
      "metadata": {
        "colab": {
          "base_uri": "https://localhost:8080/"
        },
        "id": "SBXsOYWA-63W",
        "outputId": "930baabe-3346-4cce-8713-50e622804a16"
      },
      "execution_count": null,
      "outputs": [
        {
          "output_type": "stream",
          "name": "stdout",
          "text": [
            "The concatenated string is: Hello, World!\n"
          ]
        }
      ]
    },
    {
      "cell_type": "code",
      "source": [
        "#Q.15 Write a code that uses a lambda function to find the maximum of three given numbers."
      ],
      "metadata": {
        "id": "dkkyBuvS-_aG"
      },
      "execution_count": null,
      "outputs": []
    },
    {
      "cell_type": "code",
      "source": [
        "max_of_three = lambda a, b, c: max(a, b, c)\n",
        "\n",
        "num1 = 10\n",
        "num2 = 25\n",
        "num3 = 15\n",
        "result = max_of_three(num1, num2, num3)\n",
        "print(f\"The maximum of {num1}, {num2}, and {num3} is: {result}\")"
      ],
      "metadata": {
        "colab": {
          "base_uri": "https://localhost:8080/"
        },
        "id": "oyBO4RRZ_QxF",
        "outputId": "f131be0b-4ef0-465c-d8c4-84f6171ca564"
      },
      "execution_count": null,
      "outputs": [
        {
          "output_type": "stream",
          "name": "stdout",
          "text": [
            "The maximum of 10, 25, and 15 is: 25\n"
          ]
        }
      ]
    },
    {
      "cell_type": "code",
      "source": [
        "#Q.16 Write a code that generates the squares of even numbers from a given list."
      ],
      "metadata": {
        "id": "zbJLCxzx_Vsl"
      },
      "execution_count": null,
      "outputs": []
    },
    {
      "cell_type": "code",
      "source": [
        "numbers = [1, 2, 3, 4, 5, 6, 7, 8, 9, 10]\n",
        "\n",
        "squares_of_even = [x**2 for x in numbers if x % 2 == 0]\n",
        "\n",
        "print(f\"The squares of even numbers from the list are: {squares_of_even}\")"
      ],
      "metadata": {
        "colab": {
          "base_uri": "https://localhost:8080/"
        },
        "id": "ibjp-SDW_sPs",
        "outputId": "4faa295c-b01f-49db-fdb4-80537ad30fd1"
      },
      "execution_count": null,
      "outputs": [
        {
          "output_type": "stream",
          "name": "stdout",
          "text": [
            "The squares of even numbers from the list are: [4, 16, 36, 64, 100]\n"
          ]
        }
      ]
    },
    {
      "cell_type": "code",
      "source": [
        "#Q.17 Write  a code that calculates the product of positive numbers from a given list"
      ],
      "metadata": {
        "id": "SRWxtwQE_0yF"
      },
      "execution_count": null,
      "outputs": []
    },
    {
      "cell_type": "code",
      "source": [
        "numbers = [3, -1, 4, 0, 5, -2, 6]\n",
        "\n",
        "product = 1\n",
        "has_positive = False\n",
        "\n",
        "for num in numbers:\n",
        "    if num > 0:\n",
        "        product *= num\n",
        "        has_positive = True\n",
        "\n",
        "if has_positive:\n",
        "    print(f\"The product of positive numbers from the list is: {product}\")\n",
        "else:\n",
        "    print(\"There are no positive numbers in the list.\")"
      ],
      "metadata": {
        "colab": {
          "base_uri": "https://localhost:8080/"
        },
        "id": "dtG6DsEdAXly",
        "outputId": "4de5952e-b947-4ac1-d7dc-149422429bf9"
      },
      "execution_count": null,
      "outputs": [
        {
          "output_type": "stream",
          "name": "stdout",
          "text": [
            "The product of positive numbers from the list is: 360\n"
          ]
        }
      ]
    },
    {
      "cell_type": "code",
      "source": [
        "#Q.18 Write a code that doubles the values of odd numbers from a given list."
      ],
      "metadata": {
        "id": "-esSXG1-Abiz"
      },
      "execution_count": null,
      "outputs": []
    },
    {
      "cell_type": "code",
      "source": [
        "numbers = [1, 2, 3, 4, 5, 6, 7, 8, 9, 10]\n",
        "\n",
        "doubled_odds = [x * 2 if x % 2 != 0 else x for x in numbers]\n",
        "\n",
        "print(f\"The list with odd numbers doubled is: {doubled_odds}\")"
      ],
      "metadata": {
        "colab": {
          "base_uri": "https://localhost:8080/"
        },
        "id": "OP9SkpgIB83A",
        "outputId": "d3b68b71-d9e3-4856-f251-2b99000abde7"
      },
      "execution_count": null,
      "outputs": [
        {
          "output_type": "stream",
          "name": "stdout",
          "text": [
            "The list with odd numbers doubled is: [2, 2, 6, 4, 10, 6, 14, 8, 18, 10]\n"
          ]
        }
      ]
    },
    {
      "cell_type": "code",
      "source": [
        "#Q.19 Write a code that calculate the sum of cubes of numbers from a given list."
      ],
      "metadata": {
        "id": "A_CtJMRHCA6X"
      },
      "execution_count": null,
      "outputs": []
    },
    {
      "cell_type": "code",
      "source": [
        "numbers = [1, 2, 3, 4, 5]\n",
        "\n",
        "sum_of_cubes = sum(x ** 3 for x in numbers)\n",
        "\n",
        "print(f\"The sum of cubes of the numbers from the list is: {sum_of_cubes}\")"
      ],
      "metadata": {
        "colab": {
          "base_uri": "https://localhost:8080/"
        },
        "id": "wd_P2FDYCb9n",
        "outputId": "918d1316-05dd-4d42-cb23-d1bc6986b5a5"
      },
      "execution_count": null,
      "outputs": [
        {
          "output_type": "stream",
          "name": "stdout",
          "text": [
            "The sum of cubes of the numbers from the list is: 225\n"
          ]
        }
      ]
    },
    {
      "cell_type": "code",
      "source": [
        "#Q.20 Write a code that filters out prime numbers from a given list."
      ],
      "metadata": {
        "id": "gJQxqGVuCgVX"
      },
      "execution_count": null,
      "outputs": []
    },
    {
      "cell_type": "code",
      "source": [
        "def is_prime(num):\n",
        "    \"\"\"Check if a number is prime.\"\"\"\n",
        "    if num <= 1:\n",
        "        return False\n",
        "    for i in range(2, int(num**0.5) + 1):\n",
        "        if num % i == 0:\n",
        "            return False\n",
        "    return True\n",
        "\n",
        "numbers = [10, 15, 3, 7, 4, 13, 9, 8, 2]\n",
        "\n",
        "prime_numbers = [x for x in numbers if is_prime(x)]\n",
        "\n",
        "print(f\"The prime numbers from the list are: {prime_numbers}\")"
      ],
      "metadata": {
        "colab": {
          "base_uri": "https://localhost:8080/"
        },
        "id": "aqH2s4TSCwym",
        "outputId": "94e38141-6442-423d-e2ea-760f0f6addda"
      },
      "execution_count": null,
      "outputs": [
        {
          "output_type": "stream",
          "name": "stdout",
          "text": [
            "The prime numbers from the list are: [3, 7, 13, 2]\n"
          ]
        }
      ]
    },
    {
      "cell_type": "code",
      "source": [
        "#Q.21 Write a code that uses a lambda function to calculate the sum of two numbers."
      ],
      "metadata": {
        "id": "ZhTEH-LrC11u"
      },
      "execution_count": null,
      "outputs": []
    },
    {
      "cell_type": "code",
      "source": [
        "sum_numbers = lambda a, b: a + b\n",
        "\n",
        "num1 = 8\n",
        "num2 = 12\n",
        "result = sum_numbers(num1, num2)\n",
        "print(f\"The sum of {num1} and {num2} is: {result}\")"
      ],
      "metadata": {
        "colab": {
          "base_uri": "https://localhost:8080/"
        },
        "id": "haUwFijhD_N0",
        "outputId": "068f3f82-1444-4b4d-a33c-2ff4c18d2839"
      },
      "execution_count": null,
      "outputs": [
        {
          "output_type": "stream",
          "name": "stdout",
          "text": [
            "The sum of 8 and 12 is: 20\n"
          ]
        }
      ]
    },
    {
      "cell_type": "code",
      "source": [
        "#Q.22 Write a code that uses a lambda function to calculate the square of a given number."
      ],
      "metadata": {
        "id": "C09nalWAEDD8"
      },
      "execution_count": null,
      "outputs": []
    },
    {
      "cell_type": "code",
      "source": [
        "square = lambda x: x ** 2\n",
        "\n",
        "num = 5\n",
        "result = square(num)\n",
        "print(f\"The square of {num} is: {result}\")"
      ],
      "metadata": {
        "colab": {
          "base_uri": "https://localhost:8080/"
        },
        "id": "S1g8p09kEZ50",
        "outputId": "aec1b83a-2a3d-4224-8545-b96acc822953"
      },
      "execution_count": null,
      "outputs": [
        {
          "output_type": "stream",
          "name": "stdout",
          "text": [
            "The square of 5 is: 25\n"
          ]
        }
      ]
    },
    {
      "cell_type": "code",
      "source": [
        "#Q.23 Write a code that uses a lambda function to check whether a given number is even or odd."
      ],
      "metadata": {
        "id": "RZxoX-QtEeNb"
      },
      "execution_count": null,
      "outputs": []
    },
    {
      "cell_type": "code",
      "source": [
        "is_even = lambda x: \"Even\" if x % 2 == 0 else \"Odd\"\n",
        "\n",
        "num = 14\n",
        "result = is_even(num)\n",
        "print(f\"The number {num} is: {result}\")"
      ],
      "metadata": {
        "colab": {
          "base_uri": "https://localhost:8080/"
        },
        "id": "aHW4wh4pE71T",
        "outputId": "551bdaee-3afa-45e7-c008-9908c3c549ca"
      },
      "execution_count": null,
      "outputs": [
        {
          "output_type": "stream",
          "name": "stdout",
          "text": [
            "The number 14 is: Even\n"
          ]
        }
      ]
    },
    {
      "cell_type": "code",
      "source": [
        "#Q.24 Write a code that uses a lambda function to concatenate two strings."
      ],
      "metadata": {
        "id": "qQiRLAsSE_nD"
      },
      "execution_count": null,
      "outputs": []
    },
    {
      "cell_type": "code",
      "source": [
        "concat_strings = lambda s1, s2: s1 + s2\n",
        "\n",
        "string1 = \"Hello, \"\n",
        "string2 = \"World!\"\n",
        "result = concat_strings(string1, string2)\n",
        "print(f\"The concatenated string is: {result}\")"
      ],
      "metadata": {
        "colab": {
          "base_uri": "https://localhost:8080/"
        },
        "id": "IceQDdgGF6iR",
        "outputId": "f3cafff4-6a27-4b59-a31b-7a26db30283f"
      },
      "execution_count": null,
      "outputs": [
        {
          "output_type": "stream",
          "name": "stdout",
          "text": [
            "The concatenated string is: Hello, World!\n"
          ]
        }
      ]
    },
    {
      "cell_type": "code",
      "source": [
        "#Q.25 Write a code that uses a lambda function to find the maximum of three given numbers."
      ],
      "metadata": {
        "id": "fIjaUp0pHuod"
      },
      "execution_count": null,
      "outputs": []
    },
    {
      "cell_type": "code",
      "source": [
        "max_of_three = lambda a, b, c: max(a, b, c)\n",
        "\n",
        "num1 = 15\n",
        "num2 = 30\n",
        "num3 = 25\n",
        "result = max_of_three(num1, num2, num3)\n",
        "print(f\"The maximum of {num1}, {num2}, and {num3} is: {result}\")"
      ],
      "metadata": {
        "colab": {
          "base_uri": "https://localhost:8080/"
        },
        "id": "ySEejs0XI_77",
        "outputId": "2073f365-e983-4add-f6b2-57abf5758f6b"
      },
      "execution_count": null,
      "outputs": [
        {
          "output_type": "stream",
          "name": "stdout",
          "text": [
            "The maximum of 15, 30, and 25 is: 30\n"
          ]
        }
      ]
    },
    {
      "cell_type": "code",
      "source": [
        "#Q.26 What is encapsulation in OOP?"
      ],
      "metadata": {
        "id": "EbVxeKMYJD72"
      },
      "execution_count": null,
      "outputs": []
    },
    {
      "cell_type": "code",
      "source": [
        "#Encapsulation is a fundamental concept in Object-Oriented Programming (OOP) that refers to the bundling of data (attributes) and methods (functions) that operate on that data into a single unit known as a class. It restricts direct access to some of an object's components, which can prevent the accidental modification of data and helps maintain the integrity of the object's state."
      ],
      "metadata": {
        "id": "uVKgSwv6JWbS"
      },
      "execution_count": null,
      "outputs": []
    },
    {
      "cell_type": "code",
      "source": [
        "# Key Points of Encapsulation:\n",
        "\n",
        "# Data Hiding:\n",
        "\n",
        "# Encapsulation allows the internal state of an object to be hidden from the outside world. This means that the data can only be accessed and modified through well-defined interfaces (methods), protecting it from unintended interference and misuse.\n",
        "\n",
        "# Access Modifiers:\n",
        "\n",
        "# OOP languages provide access modifiers to define the visibility of class members (attributes and methods). Common access modifiers include:\n",
        "# Public: Members are accessible from outside the class.\n",
        "# Private: Members are accessible only within the class.\n",
        "# Protected: Members are accessible within the class and by derived classes.\n",
        "\n",
        "# Getter and Setter Methods:\n",
        "\n",
        "# To interact with private attributes, classes typically use getter and setter methods. Getters provide read access to an attribute, while setters allow controlled write access, often including validation logic to ensure data integrity."
      ],
      "metadata": {
        "id": "fgSNl0gdJjDy"
      },
      "execution_count": null,
      "outputs": []
    },
    {
      "cell_type": "code",
      "source": [
        "class BankAccount:\n",
        "    def __init__(self, balance):\n",
        "        self.__balance = balance\n",
        "\n",
        "    def deposit(self, amount):\n",
        "        if amount > 0:\n",
        "            self.__balance += amount\n",
        "\n",
        "    def withdraw(self, amount):\n",
        "        if 0 < amount <= self.__balance:\n",
        "            self.__balance -= amount\n",
        "\n",
        "    def get_balance(self):\n",
        "        return self.__balance\n",
        "\n",
        "account = BankAccount(1000)\n",
        "account.deposit(500)\n",
        "account.withdraw(200)\n",
        "print(\"Current Balance:\", account.get_balance())"
      ],
      "metadata": {
        "colab": {
          "base_uri": "https://localhost:8080/"
        },
        "id": "Tj7aCe48Jzyx",
        "outputId": "1256579f-9aba-474f-a3be-e634fa68390e"
      },
      "execution_count": null,
      "outputs": [
        {
          "output_type": "stream",
          "name": "stdout",
          "text": [
            "Current Balance: 1300\n"
          ]
        }
      ]
    },
    {
      "cell_type": "code",
      "source": [
        "# Benefits of Encapsulation:\n",
        "\n",
        "# Improved Maintenance: Changes to the implementation can be made without affecting external code.\n",
        "\n",
        "# Increased Security: Protects the internal state of objects from unintended access or modification.\n",
        "\n",
        "# Modularity: Encourages the organization of code into separate classes, making it easier to manage and understand."
      ],
      "metadata": {
        "id": "JgwZU_2RJ7-V"
      },
      "execution_count": null,
      "outputs": []
    },
    {
      "cell_type": "code",
      "source": [
        "#Q.27 Exlain the use of access moddifiers in python classes."
      ],
      "metadata": {
        "id": "cZhZaIoSKHAx"
      },
      "execution_count": null,
      "outputs": []
    },
    {
      "cell_type": "code",
      "source": [
        "# Public Access Modifier:\n",
        "\n",
        "# Attributes and methods that are declared public can be accessed from inside and outside the class. In Python, all attributes and methods are public by default.\n",
        "# No special syntax is required for public members."
      ],
      "metadata": {
        "id": "T0VazuwOQZLL"
      },
      "execution_count": null,
      "outputs": []
    },
    {
      "cell_type": "code",
      "source": [
        "class Car:\n",
        "    def __init__(self, make, model):\n",
        "        self.make = make\n",
        "        self.model = model\n",
        "\n",
        "    def display_info(self):\n",
        "        print(f\"Car: {self.make}, Model: {self.model}\")\n",
        "\n",
        "car = Car(\"Toyota\", \"Camry\")\n",
        "print(car.make)\n",
        "car.display_info()"
      ],
      "metadata": {
        "colab": {
          "base_uri": "https://localhost:8080/"
        },
        "id": "nE-rXD3cQa19",
        "outputId": "cfc17b20-03a7-4bdc-c2e8-8e432cffa864"
      },
      "execution_count": null,
      "outputs": [
        {
          "output_type": "stream",
          "name": "stdout",
          "text": [
            "Toyota\n",
            "Car: Toyota, Model: Camry\n"
          ]
        }
      ]
    },
    {
      "cell_type": "code",
      "source": [
        "# Protected Access Modifier:\n",
        "\n",
        "# Protected members are indicated by a single leading underscore (_). They are meant to be used within the class and its subclasses. However, Python does not enforce this protection strictly; it's a convention used by developers to indicate that a variable or method should be treated as internal to the class.\n",
        "# Even though protected members can technically be accessed from outside the class, it is generally not recommended."
      ],
      "metadata": {
        "id": "SUbhD7z2QcaN"
      },
      "execution_count": null,
      "outputs": []
    },
    {
      "cell_type": "code",
      "source": [
        "class Car:\n",
        "    def __init__(self, make, model):\n",
        "        self._make = make\n",
        "        self._model = model\n",
        "\n",
        "    def _display_info(self):\n",
        "        print(f\"Car: {self._make}, Model: {self._model}\")\n",
        "\n",
        "car = Car(\"Honda\", \"Civic\")\n",
        "print(car._make)\n",
        "car._display_info()"
      ],
      "metadata": {
        "colab": {
          "base_uri": "https://localhost:8080/"
        },
        "id": "FlP7CqJrQvVs",
        "outputId": "0ce0163a-191a-44de-ba85-bbc94f25c7be"
      },
      "execution_count": null,
      "outputs": [
        {
          "output_type": "stream",
          "name": "stdout",
          "text": [
            "Honda\n",
            "Car: Honda, Model: Civic\n"
          ]
        }
      ]
    },
    {
      "cell_type": "code",
      "source": [
        "# Private Access Modifier:\n",
        "\n",
        "# Private members are indicated by two leading underscores (__). These members cannot be accessed directly from outside the class; they are \"name-mangled\" by Python to avoid accidental access from outside the class. This provides a level of access control.\n",
        "# Private attributes and methods can still be accessed indirectly using getter and setter methods or by accessing their mangled names (not recommended)."
      ],
      "metadata": {
        "id": "xl7YdKuiQ19E"
      },
      "execution_count": null,
      "outputs": []
    },
    {
      "cell_type": "code",
      "source": [
        "class BankAccount:\n",
        "    def __init__(self, balance):\n",
        "        self.__balance = balance\n",
        "\n",
        "    def deposit(self, amount):\n",
        "        if amount > 0:\n",
        "            self.__balance += amount\n",
        "\n",
        "    def get_balance(self):\n",
        "        return self.__balance\n",
        "\n",
        "account = BankAccount(1000)\n",
        "account.deposit(500)\n",
        "print(account.get_balance())"
      ],
      "metadata": {
        "colab": {
          "base_uri": "https://localhost:8080/"
        },
        "id": "SnvFrrToQ_P8",
        "outputId": "e8297d77-986c-401e-87c3-687d0ecb23eb"
      },
      "execution_count": null,
      "outputs": [
        {
          "output_type": "stream",
          "name": "stdout",
          "text": [
            "1500\n"
          ]
        }
      ]
    },
    {
      "cell_type": "code",
      "source": [
        "print(account._BankAccount__balance)\n"
      ],
      "metadata": {
        "colab": {
          "base_uri": "https://localhost:8080/"
        },
        "id": "yU6TMPJYRDsE",
        "outputId": "ab9ccfaf-443b-4f64-d31f-18a29ff37477"
      },
      "execution_count": null,
      "outputs": [
        {
          "output_type": "stream",
          "name": "stdout",
          "text": [
            "1500\n"
          ]
        }
      ]
    },
    {
      "cell_type": "code",
      "source": [
        "#Q.28 What is inheritance in OOP?"
      ],
      "metadata": {
        "id": "6CVdcS_eRUU7"
      },
      "execution_count": null,
      "outputs": []
    },
    {
      "cell_type": "code",
      "source": [
        "# Inheritance is a fundamental concept in Object-Oriented Programming (OOP) that allows a new class to inherit properties and behaviors (attributes and methods) from an existing class. This promotes code reuse and establishes a hierarchical relationship between classes.\n",
        "\n",
        "# In inheritance, the child class (or subclass) inherits features from the parent class (or superclass), meaning it can use the methods and attributes of the parent class, and it can also add new methods and attributes or override the inherited ones."
      ],
      "metadata": {
        "id": "fAel_b09RsXL"
      },
      "execution_count": null,
      "outputs": []
    },
    {
      "cell_type": "code",
      "source": [
        "# Key Concepts of Inheritance:\n",
        "# Parent (Super) Class:\n",
        "\n",
        "# The class from which features are inherited is called the parent or superclass.\n",
        "# Child (Sub) Class:\n",
        "\n",
        "# The class that inherits the features of another class is called the child or subclass. The subclass can add new attributes and methods or override the inherited ones.\n",
        "# Single Inheritance:\n",
        "\n",
        "# A subclass inherits from a single parent class.\n",
        "# Multiple Inheritance:\n",
        "\n",
        "# A subclass inherits from more than one parent class. This is supported in Python, but some languages like Java do not support it directly.\n",
        "# Multilevel Inheritance:\n",
        "\n",
        "# A class is derived from another derived class, i.e., a child class has a parent, which in turn also has its own parent.\n",
        "# Method Overriding:\n",
        "\n",
        "# In a subclass, you can redefine a method inherited from the parent class. This allows for different behavior in the child class."
      ],
      "metadata": {
        "id": "tts292jdRvCS"
      },
      "execution_count": null,
      "outputs": []
    },
    {
      "cell_type": "code",
      "source": [
        "class Animal:\n",
        "    def __init__(self, name):\n",
        "        self.name = name\n",
        "\n",
        "    def speak(self):\n",
        "        print(f\"{self.name} makes a sound.\")\n",
        "\n",
        "class Dog(Animal):\n",
        "    def speak(self):\n",
        "        print(f\"{self.name} barks.\")\n",
        "\n",
        "dog = Dog(\"Buddy\")\n",
        "dog.speak()"
      ],
      "metadata": {
        "colab": {
          "base_uri": "https://localhost:8080/"
        },
        "id": "ryURmxaGRzxy",
        "outputId": "6e26e621-5825-4418-eccc-3f5005a70df7"
      },
      "execution_count": null,
      "outputs": [
        {
          "output_type": "stream",
          "name": "stdout",
          "text": [
            "Buddy barks.\n"
          ]
        }
      ]
    },
    {
      "cell_type": "code",
      "source": [
        "\n",
        "class Bird:\n",
        "    def fly(self):\n",
        "        return \"I can fly.\"\n",
        "\n",
        "class Swimmer:\n",
        "    def swim(self):\n",
        "        return \"I can swim.\"\n",
        "\n",
        "class Duck(Bird, Swimmer):\n",
        "    pass\n",
        "\n",
        "duck = Duck()\n",
        "print(duck.fly())\n",
        "print(duck.swim())"
      ],
      "metadata": {
        "colab": {
          "base_uri": "https://localhost:8080/"
        },
        "id": "YVPJ8S07aNzY",
        "outputId": "578fab89-1f5e-4956-8b43-2d612d076fba"
      },
      "execution_count": null,
      "outputs": [
        {
          "output_type": "stream",
          "name": "stdout",
          "text": [
            "I can fly.\n",
            "I can swim.\n"
          ]
        }
      ]
    },
    {
      "cell_type": "code",
      "source": [
        "# Types of Inheritance:\n",
        "# Single Inheritance:\n",
        "\n",
        "# A class inherits from one parent class."
      ],
      "metadata": {
        "id": "vxGVAymcR2zq"
      },
      "execution_count": null,
      "outputs": []
    },
    {
      "cell_type": "code",
      "source": [
        "class Parent:\n",
        "    pass\n",
        "\n",
        "class Child(Parent):\n",
        "    pass"
      ],
      "metadata": {
        "id": "NlZiPdmPSLEy"
      },
      "execution_count": null,
      "outputs": []
    },
    {
      "cell_type": "code",
      "source": [
        "# Multiple Inheritance:\n",
        "\n",
        "# A class inherits from multiple parent classes."
      ],
      "metadata": {
        "id": "04KgYI2dSM5h"
      },
      "execution_count": null,
      "outputs": []
    },
    {
      "cell_type": "code",
      "source": [
        "class Parent1:\n",
        "    pass\n",
        "\n",
        "class Parent2:\n",
        "    pass\n",
        "\n",
        "class Child(Parent1, Parent2):\n",
        "    pass"
      ],
      "metadata": {
        "id": "NUhqnl7RSQI5"
      },
      "execution_count": null,
      "outputs": []
    },
    {
      "cell_type": "code",
      "source": [
        "# Multilevel Inheritance:\n",
        "\n",
        "# A class is derived from another derived class."
      ],
      "metadata": {
        "id": "6NYZYl53SVUi"
      },
      "execution_count": null,
      "outputs": []
    },
    {
      "cell_type": "code",
      "source": [
        "class Grandparent:\n",
        "    pass\n",
        "\n",
        "class Parent(Grandparent):\n",
        "    pass\n",
        "\n",
        "class Child(Parent):\n",
        "    pass"
      ],
      "metadata": {
        "id": "ZSbBXjOVSary"
      },
      "execution_count": null,
      "outputs": []
    },
    {
      "cell_type": "code",
      "source": [
        "# Hierarchical Inheritance:\n",
        "\n",
        "# Multiple classes inherit from a single parent class"
      ],
      "metadata": {
        "id": "HYoPeM9TScra"
      },
      "execution_count": null,
      "outputs": []
    },
    {
      "cell_type": "code",
      "source": [
        "class Parent:\n",
        "    pass\n",
        "\n",
        "class Child1(Parent):\n",
        "    pass\n",
        "\n",
        "class Child2(Parent):\n",
        "    pass"
      ],
      "metadata": {
        "id": "bI27ERKMSieJ"
      },
      "execution_count": null,
      "outputs": []
    },
    {
      "cell_type": "code",
      "source": [
        "# Hybrid Inheritance:\n",
        "\n",
        "# A combination of multiple and multilevel inheritance."
      ],
      "metadata": {
        "id": "9RlEA7yjSkXp"
      },
      "execution_count": null,
      "outputs": []
    },
    {
      "cell_type": "code",
      "source": [
        "# Inheritance and Method Overriding:\n",
        "# Method overriding allows the child class to provide a specific implementation of a method that is already defined in the parent class."
      ],
      "metadata": {
        "id": "2ApeIuMHaxYS"
      },
      "execution_count": null,
      "outputs": []
    },
    {
      "cell_type": "code",
      "source": [
        "class Parent:\n",
        "    def show(self):\n",
        "        print(\"This is the parent class method.\")\n",
        "\n",
        "class Child(Parent):\n",
        "    def show(self):\n",
        "        print(\"This is the child class method.\")\n",
        "\n",
        "child = Child()\n",
        "child.show()"
      ],
      "metadata": {
        "colab": {
          "base_uri": "https://localhost:8080/"
        },
        "id": "ofhWcgWOa2SD",
        "outputId": "131fb012-beeb-42f8-9d6b-ba50412ba9c9"
      },
      "execution_count": null,
      "outputs": [
        {
          "output_type": "stream",
          "name": "stdout",
          "text": [
            "This is the child class method.\n"
          ]
        }
      ]
    },
    {
      "cell_type": "code",
      "source": [
        "# Benefits of Inheritance:\n",
        "# Code Reusability: Inheritance allows for the reuse of code from the parent class, reducing redundancy and improving maintainability.\n",
        "# Method Overriding: A child class can modify or extend the functionality of methods in the parent class without modifying the parent class itself.\n",
        "# Extensibility: New functionality can be added to existing code more easily by creating subclasses that extend the parent class.\n",
        "# Improved Organization: Inheritance promotes a hierarchical classification that helps organize related classes."
      ],
      "metadata": {
        "id": "IpLXCQGcStRp"
      },
      "execution_count": null,
      "outputs": []
    },
    {
      "cell_type": "code",
      "source": [
        "#Q.29 Define polymorphism in OOP?."
      ],
      "metadata": {
        "id": "4iiOMT4bSuVp"
      },
      "execution_count": null,
      "outputs": []
    },
    {
      "cell_type": "code",
      "source": [
        "# Polymorphism in Object-Oriented Programming (OOP) is the ability of objects to take on multiple forms. It allows objects of different classes to be treated as objects of a common superclass, enabling a single method or function to work in different ways based on the object it is called upon. This provides flexibility and reusability in code design."
      ],
      "metadata": {
        "id": "ALU6KqT2TNCX"
      },
      "execution_count": null,
      "outputs": []
    },
    {
      "cell_type": "code",
      "source": [
        "# Key Concepts of Polymorphism:\n",
        "# Method Overriding:\n",
        "\n",
        "# This type of polymorphism occurs when a subclass provides a specific implementation of a method that is already defined in its superclass. The method in the subclass \"overrides\" the method in the superclass, allowing the same method name to behave differently based on the object calling it."
      ],
      "metadata": {
        "id": "wRXdiQbobOCi"
      },
      "execution_count": null,
      "outputs": []
    },
    {
      "cell_type": "code",
      "source": [
        "class Animal:\n",
        "    def speak(self):\n",
        "        return \"Animal speaks\"\n",
        "\n",
        "class Dog(Animal):\n",
        "    def speak(self):\n",
        "        return \"Dog barks\"\n",
        "\n",
        "class Cat(Animal):\n",
        "    def speak(self):\n",
        "        return \"Cat meows\"\n",
        "\n",
        "animals = [Dog(), Cat(), Animal()]\n",
        "for animal in animals:\n",
        "    print(animal.speak())"
      ],
      "metadata": {
        "colab": {
          "base_uri": "https://localhost:8080/"
        },
        "id": "k1WPkMONbSs4",
        "outputId": "7b8332f0-7402-469d-dc9c-9cb11c689f9d"
      },
      "execution_count": null,
      "outputs": [
        {
          "output_type": "stream",
          "name": "stdout",
          "text": [
            "Dog barks\n",
            "Cat meows\n",
            "Animal speaks\n"
          ]
        }
      ]
    },
    {
      "cell_type": "code",
      "source": [
        "# Method Overloading (Not natively supported in Python):\n",
        "\n",
        "# Some programming languages like Java or C++ support method overloading, where a class can have multiple methods with the same name but different parameters (e.g., different argument types or numbers). In Python, method overloading can be mimicked using default arguments, but it does not natively support multiple methods with the same name.\n",
        "\n"
      ],
      "metadata": {
        "id": "-jHNWO8dbWlQ"
      },
      "execution_count": null,
      "outputs": []
    },
    {
      "cell_type": "code",
      "source": [
        "class MathOperation {\n",
        "    int add(int a, int b) {\n",
        "        return a + b;\n",
        "    }\n",
        "\n",
        "    double add(double a, double b) {\n",
        "        return a + b;\n",
        "    }\n",
        "}"
      ],
      "metadata": {
        "id": "nxZarGrHbfEw"
      },
      "execution_count": null,
      "outputs": []
    },
    {
      "cell_type": "code",
      "source": [
        "# Polymorphism through Interfaces/Abstract Classes:\n",
        "\n",
        "# Polymorphism also occurs when different classes implement the same interface or inherit from the same abstract class, but each class provides its own implementation of the methods."
      ],
      "metadata": {
        "id": "Hrx_UqHrbk7q"
      },
      "execution_count": null,
      "outputs": []
    },
    {
      "cell_type": "code",
      "source": [
        "from abc import ABC, abstractmethod\n",
        "\n",
        "class Shape(ABC):\n",
        "    @abstractmethod\n",
        "    def area(self):\n",
        "        pass\n",
        "\n",
        "class Circle(Shape):\n",
        "    def __init__(self, radius):\n",
        "        self.radius = radius\n",
        "\n",
        "    def area(self):\n",
        "        return 3.14 * self.radius ** 2\n",
        "\n",
        "class Square(Shape):\n",
        "    def __init__(self, side):\n",
        "        self.side = side\n",
        "\n",
        "    def area(self):\n",
        "        return self.side ** 2\n",
        "\n",
        "shapes = [Circle(5), Square(4)]\n",
        "for shape in shapes:\n",
        "    print(f\"Area: {shape.area()}\")"
      ],
      "metadata": {
        "colab": {
          "base_uri": "https://localhost:8080/"
        },
        "id": "A_wKKQ4UbnuQ",
        "outputId": "387ad449-d254-471e-d451-199314f793ea"
      },
      "execution_count": null,
      "outputs": [
        {
          "output_type": "stream",
          "name": "stdout",
          "text": [
            "Area: 78.5\n",
            "Area: 16\n"
          ]
        }
      ]
    },
    {
      "cell_type": "code",
      "source": [
        "# Types of Polymorphism:\n",
        "# Compile-Time Polymorphism (also known as Static Polymorphism):\n",
        "\n",
        "# This occurs when the method to be executed is determined at compile time. It is usually achieved through method overloading or operator overloading. Python does not support method overloading directly but supports operator overloading.\n",
        "\n"
      ],
      "metadata": {
        "id": "-ZfBMxk4bp1w"
      },
      "execution_count": null,
      "outputs": []
    },
    {
      "cell_type": "code",
      "source": [
        "class Point:\n",
        "    def __init__(self, x, y):\n",
        "        self.x = x\n",
        "        self.y = y\n",
        "\n",
        "    def __add__(self, other):\n",
        "        return Point(self.x + other.x, self.y + other.y)\n",
        "\n",
        "    def __repr__(self):\n",
        "        return f\"Point({self.x}, {self.y})\"\n",
        "\n",
        "p1 = Point(1, 2)\n",
        "p2 = Point(3, 4)\n",
        "p3 = p1 + p2\n",
        "print(p3)"
      ],
      "metadata": {
        "colab": {
          "base_uri": "https://localhost:8080/"
        },
        "id": "FWaqczy_bx4A",
        "outputId": "26abe88d-2e94-4a1d-c73d-118c4d8f5ff2"
      },
      "execution_count": null,
      "outputs": [
        {
          "output_type": "stream",
          "name": "stdout",
          "text": [
            "Point(4, 6)\n"
          ]
        }
      ]
    },
    {
      "cell_type": "code",
      "source": [
        "# Run-Time Polymorphism (also known as Dynamic Polymorphism):\n",
        "\n",
        "# This occurs when the method to be executed is determined at runtime. It is achieved using method overriding or interfaces/abstract classes. In Python, this is the most common form of polymorphism."
      ],
      "metadata": {
        "id": "QNprQnAjb4KQ"
      },
      "execution_count": null,
      "outputs": []
    },
    {
      "cell_type": "code",
      "source": [
        "# Benefits of Polymorphism:\n",
        "# Code Flexibility: A single interface can be used to perform actions on objects of different types, making the code flexible.\n",
        "# Reusability: Methods or functions that use polymorphism can work with different types of objects without modification, improving code reusability.\n",
        "# Extensibility: New classes that conform to the same interface or base class can be added without changing the existing code."
      ],
      "metadata": {
        "id": "MtBt6Jgfb9LQ"
      },
      "execution_count": null,
      "outputs": []
    },
    {
      "cell_type": "code",
      "source": [
        "class Bird:\n",
        "    def fly(self):\n",
        "        print(\"Bird is flying\")\n",
        "\n",
        "class Sparrow(Bird):\n",
        "    def fly(self):\n",
        "        print(\"Sparrow is flying\")\n",
        "\n",
        "class Penguin(Bird):\n",
        "    def fly(self):\n",
        "        print(\"Penguins can't fly\")\n",
        "\n",
        "birds = [Sparrow(), Penguin(), Bird()]\n",
        "for bird in birds:\n",
        "    bird.fly()"
      ],
      "metadata": {
        "colab": {
          "base_uri": "https://localhost:8080/"
        },
        "id": "LYaY5lYMcGpQ",
        "outputId": "eb9f105d-82f5-4005-8de6-5ab96c40ebf2"
      },
      "execution_count": null,
      "outputs": [
        {
          "output_type": "stream",
          "name": "stdout",
          "text": [
            "Sparrow is flying\n",
            "Penguins can't fly\n",
            "Bird is flying\n"
          ]
        }
      ]
    },
    {
      "cell_type": "code",
      "source": [
        "#Q.30 Explain Method overriding in OOP."
      ],
      "metadata": {
        "id": "jWpU6-s1cIvX"
      },
      "execution_count": null,
      "outputs": []
    },
    {
      "cell_type": "code",
      "source": [
        "\n",
        "# Method overriding is a core concept in Object-Oriented Programming (OOP) that allows a subclass (child class) to provide a specific implementation of a method that is already defined in its superclass (parent class). This means that when a method is called on an instance of the subclass, the overridden version in the child class is executed instead of the version in the parent class."
      ],
      "metadata": {
        "id": "9XxX54q4efPL"
      },
      "execution_count": null,
      "outputs": []
    },
    {
      "cell_type": "code",
      "source": [
        "# Key Points of Method Overriding:\n",
        "# Inheritance Requirement:\n",
        "\n",
        "# Method overriding occurs within the context of inheritance. A child class inherits from a parent class and overrides one or more of its methods.\n",
        "# Same Method Signature:\n",
        "\n",
        "# The overriding method in the child class must have the same name, return type, and parameters as the method in the parent class. This is how the child class is able to \"override\" the parent class's method.\n",
        "# Dynamic Method Resolution:\n",
        "\n",
        "# Method overriding supports polymorphism, allowing for dynamic method resolution. The appropriate method to be executed is determined at runtime based on the object type.\n",
        "# Use of super():\n",
        "\n",
        "# In the overridden method, the child class can call the parent class's method using the super() function. This can be useful if you want to extend or modify the behavior of the parent class's method rather than completely replacing it."
      ],
      "metadata": {
        "id": "JcPdXPD0fIjK"
      },
      "execution_count": null,
      "outputs": []
    },
    {
      "cell_type": "code",
      "source": [
        "class Animal:\n",
        "    def speak(self):\n",
        "        return \"Animal speaks\"\n",
        "\n",
        "class Dog(Animal):\n",
        "    def speak(self):\n",
        "        return \"Dog barks\"\n",
        "\n",
        "class Cat(Animal):\n",
        "    def speak(self):\n",
        "        return \"Cat meows\"\n",
        "\n",
        "def animal_sound(animal):\n",
        "    print(animal.speak())\n",
        "\n",
        "dog = Dog()\n",
        "cat = Cat()\n",
        "\n",
        "animal_sound(dog)\n",
        "animal_sound(cat)"
      ],
      "metadata": {
        "colab": {
          "base_uri": "https://localhost:8080/"
        },
        "id": "rKRscrCufNXB",
        "outputId": "b3c391e2-43e4-47e9-a87f-30b9bff9e0cc"
      },
      "execution_count": null,
      "outputs": [
        {
          "output_type": "stream",
          "name": "stdout",
          "text": [
            "Dog barks\n",
            "Cat meows\n"
          ]
        }
      ]
    },
    {
      "cell_type": "code",
      "source": [
        "class Animal:\n",
        "    def speak(self):\n",
        "        return \"Animal speaks\"\n",
        "\n",
        "class Dog(Animal):\n",
        "    def speak(self):\n",
        "        parent_speak = super().speak()\n",
        "        return f\"{parent_speak} and Dog barks\"\n",
        "\n",
        "dog = Dog()\n",
        "print(dog.speak())"
      ],
      "metadata": {
        "colab": {
          "base_uri": "https://localhost:8080/"
        },
        "id": "ig28GtShfgbZ",
        "outputId": "079b359c-dabf-46af-aaa8-d87de2edebd6"
      },
      "execution_count": null,
      "outputs": [
        {
          "output_type": "stream",
          "name": "stdout",
          "text": [
            "Animal speaks and Dog barks\n"
          ]
        }
      ]
    },
    {
      "cell_type": "code",
      "source": [
        "# Benefits of Method Overriding:\n",
        "# Flexibility:\n",
        "\n",
        "# It allows subclasses to define their own specific behavior while still maintaining a consistent interface.\n",
        "# Code Reusability:\n",
        "\n",
        "# By allowing subclasses to modify behavior while inheriting from a common parent class, method overriding promotes the reuse of code.\n",
        "# Polymorphism:\n",
        "\n",
        "# It supports polymorphism, enabling a single interface (method) to represent different underlying forms (object types)."
      ],
      "metadata": {
        "id": "CHjBhjQ7fkUZ"
      },
      "execution_count": null,
      "outputs": []
    },
    {
      "cell_type": "code",
      "source": [
        "#Q.31 Define a parent class animal with a method make_sound that prints\"Generic animal sound\". Create a child class Dog inheriting from Animal with a mothod make_sound that prints\"Woof!\"."
      ],
      "metadata": {
        "id": "66l7F3AAfvvg"
      },
      "execution_count": null,
      "outputs": []
    },
    {
      "cell_type": "code",
      "source": [
        "class Animal:\n",
        "    def make_sound(self):\n",
        "        print(\"Generic animal sound\")\n",
        "\n",
        "class Dog(Animal):\n",
        "    def make_sound(self):\n",
        "        print(\"Woof!\")\n",
        "\n",
        "animal = Animal()\n",
        "animal.make_sound()\n",
        "\n",
        "dog = Dog()\n",
        "dog.make_sound()"
      ],
      "metadata": {
        "colab": {
          "base_uri": "https://localhost:8080/"
        },
        "id": "pWiAY7h8Y6aw",
        "outputId": "4befbe16-59e7-4def-d6e4-cb1914d2128d"
      },
      "execution_count": null,
      "outputs": [
        {
          "output_type": "stream",
          "name": "stdout",
          "text": [
            "Generic animal sound\n",
            "Woof!\n"
          ]
        }
      ]
    },
    {
      "cell_type": "code",
      "source": [
        "#Q.32 Define a method move in the Animal class that prints\"Animal moves\".Override the move method in the Dog class to print\"Dog runs\""
      ],
      "metadata": {
        "id": "65hEyveEZgcl"
      },
      "execution_count": null,
      "outputs": []
    },
    {
      "cell_type": "code",
      "source": [
        "class Animal:\n",
        "    def move(self):\n",
        "        print(\"Animal moves\")\n",
        "\n",
        "class Dog(Animal):\n",
        "    def move(self):\n",
        "        print(\"Dog runs\")\n",
        "\n",
        "animal = Animal()\n",
        "animal.move()\n",
        "\n",
        "dog = Dog()\n",
        "dog.move()"
      ],
      "metadata": {
        "colab": {
          "base_uri": "https://localhost:8080/"
        },
        "id": "UgAdWQBWaiGl",
        "outputId": "185f32c6-1b34-4dcf-f0e0-cda5a3a8ca67"
      },
      "execution_count": null,
      "outputs": [
        {
          "output_type": "stream",
          "name": "stdout",
          "text": [
            "Animal moves\n",
            "Dog runs\n"
          ]
        }
      ]
    },
    {
      "cell_type": "code",
      "source": [
        "#Q.33 Create a class Mammal with a method reproduce that prints\"Giving birth to live young.\"Create a class DogMammal inheriting from both Dog and Mammal."
      ],
      "metadata": {
        "id": "0XHejSbubeha"
      },
      "execution_count": null,
      "outputs": []
    },
    {
      "cell_type": "code",
      "source": [
        "class Animal:\n",
        "    def make_sound(self):\n",
        "        print(\"Generic animal sound\")\n",
        "\n",
        "    def move(self):\n",
        "        print(\"Animal moves\")\n",
        "\n",
        "class Dog(Animal):\n",
        "    def make_sound(self):\n",
        "        print(\"Woof!\")\n",
        "\n",
        "    def move(self):\n",
        "        print(\"Dog runs\")\n",
        "\n",
        "class Mammal:\n",
        "    def reproduce(self):\n",
        "        print(\"Giving birth to live young\")\n",
        "\n",
        "class DogMammal(Dog, Mammal):\n",
        "    pass\n",
        "\n",
        "dog_mammal = DogMammal()\n",
        "dog_mammal.make_sound()\n",
        "dog_mammal.move()\n",
        "dog_mammal.reproduce()"
      ],
      "metadata": {
        "colab": {
          "base_uri": "https://localhost:8080/"
        },
        "id": "GDmthaTYc6nX",
        "outputId": "c484a1d2-cb34-4dc7-999c-6d8207f51dd2"
      },
      "execution_count": null,
      "outputs": [
        {
          "output_type": "stream",
          "name": "stdout",
          "text": [
            "Woof!\n",
            "Dog runs\n",
            "Giving birth to live young\n"
          ]
        }
      ]
    },
    {
      "cell_type": "code",
      "source": [
        "#Q.34 Create a class GermanShepherd inheriting from Dog and override the make_sound method to print \"Bark!\""
      ],
      "metadata": {
        "id": "_WJ4JzAPdAe_"
      },
      "execution_count": null,
      "outputs": []
    },
    {
      "cell_type": "code",
      "source": [
        "class Animal:\n",
        "    def make_sound(self):\n",
        "        print(\"Generic animal sound\")\n",
        "\n",
        "    def move(self):\n",
        "        print(\"Animal moves\")\n",
        "\n",
        "class Dog(Animal):\n",
        "    def make_sound(self):\n",
        "        print(\"Woof!\")\n",
        "\n",
        "    def move(self):\n",
        "        print(\"Dog runs\")\n",
        "\n",
        "class GermanShepherd(Dog):\n",
        "    def make_sound(self):\n",
        "        print(\"Bark!\")\n",
        "\n",
        "german_shepherd = GermanShepherd()\n",
        "german_shepherd.make_sound()\n",
        "german_shepherd.move()\n"
      ],
      "metadata": {
        "colab": {
          "base_uri": "https://localhost:8080/"
        },
        "id": "BMuO4J_ZdvIt",
        "outputId": "dd2fc9de-2428-42ae-dbb7-e3ab5e0b7824"
      },
      "execution_count": null,
      "outputs": [
        {
          "output_type": "stream",
          "name": "stdout",
          "text": [
            "Bark!\n",
            "Dog runs\n"
          ]
        }
      ]
    },
    {
      "cell_type": "code",
      "source": [
        "#Q.35 Define constructors in both the Animal and Dog classes with different initialization parameters."
      ],
      "metadata": {
        "id": "17FMzB5Rd6EM"
      },
      "execution_count": null,
      "outputs": []
    },
    {
      "cell_type": "code",
      "source": [
        "class Animal:\n",
        "    def __init__(self, species):\n",
        "        self.species = species\n",
        "        print(f\"Animal of species: {self.species}\")\n",
        "\n",
        "    def make_sound(self):\n",
        "        print(\"Generic animal sound\")\n",
        "\n",
        "    def move(self):\n",
        "        print(\"Animal moves\")\n",
        "\n",
        "class Dog(Animal):\n",
        "    def __init__(self, species, breed):\n",
        "        super().__init__(species)\n",
        "        self.breed = breed\n",
        "        print(f\"Dog of breed: {self.breed}\")\n",
        "\n",
        "    def make_sound(self):\n",
        "        print(\"Woof!\")\n",
        "\n",
        "    def move(self):\n",
        "        print(\"Dog runs\")\n",
        "\n",
        "animal = Animal(\"Canine\")\n",
        "\n",
        "dog = Dog(\"Canine\", \"Labrador\")"
      ],
      "metadata": {
        "colab": {
          "base_uri": "https://localhost:8080/"
        },
        "id": "nar0MOAVe_c7",
        "outputId": "41f304b4-ec12-4ba5-f2ce-16c74d3057d5"
      },
      "execution_count": null,
      "outputs": [
        {
          "output_type": "stream",
          "name": "stdout",
          "text": [
            "Animal of species: Canine\n",
            "Animal of species: Canine\n",
            "Dog of breed: Labrador\n"
          ]
        }
      ]
    },
    {
      "cell_type": "code",
      "source": [
        "#Q.36 What is abstraction in python?How is it implemented?"
      ],
      "metadata": {
        "id": "wAlSDd04fKKb"
      },
      "execution_count": null,
      "outputs": []
    },
    {
      "cell_type": "code",
      "source": [
        "# Abstraction in Python:\n",
        "# Abstraction is one of the core concepts of Object-Oriented Programming (OOP). It is the process of hiding the complex implementation details and showing only the essential features of an object. In Python, abstraction is used to define a clear separation between what an object does and how it does it, which allows the developer to focus on interacting with an object without worrying about its inner workings."
      ],
      "metadata": {
        "id": "y5qIoouXfg-S"
      },
      "execution_count": null,
      "outputs": []
    },
    {
      "cell_type": "code",
      "source": [
        "# Key Characteristics of Abstraction:\n",
        "# Hiding Internal Details: The user doesn't need to know the specifics of how the internal functionality is implemented.\n",
        "# Simplifying Complex Systems: It reduces complexity by showing only relevant data and behaviors.\n",
        "# Focus on Interface, Not Implementation: Interaction is done through well-defined interfaces or methods, while the actual logic can be complex or hidden."
      ],
      "metadata": {
        "id": "9VuYTWEQfsuM"
      },
      "execution_count": null,
      "outputs": []
    },
    {
      "cell_type": "code",
      "source": [
        "# Implementation of Abstraction:\n",
        "# In Python, abstraction is typically implemented using abstract classes and interfaces, and the abc (Abstract Base Class) module is used for this purpose.\n",
        "\n",
        "# An abstract class cannot be instantiated directly and may contain one or more abstract methods (methods that are declared but contain no implementation).\n",
        "# Subclasses of an abstract class must provide implementations for the abstract methods."
      ],
      "metadata": {
        "id": "otskgsAFfzH5"
      },
      "execution_count": null,
      "outputs": []
    },
    {
      "cell_type": "code",
      "source": [
        "from abc import ABC, abstractmethod\n",
        "\n",
        "class Animal(ABC):\n",
        "    @abstractmethod\n",
        "    def make_sound(self):\n",
        "        pass\n",
        "\n",
        "    def move(self):\n",
        "        print(\"Animal moves\")\n",
        "\n",
        "class Dog(Animal):\n",
        "    def make_sound(self):\n",
        "        print(\"Woof!\")\n",
        "\n",
        "dog = Dog()\n",
        "dog.make_sound()\n",
        "dog.move()"
      ],
      "metadata": {
        "colab": {
          "base_uri": "https://localhost:8080/"
        },
        "id": "77uuL8o6f25p",
        "outputId": "e8306d90-590b-4ebf-d116-c78878e94370"
      },
      "execution_count": null,
      "outputs": [
        {
          "output_type": "stream",
          "name": "stdout",
          "text": [
            "Woof!\n",
            "Animal moves\n"
          ]
        }
      ]
    },
    {
      "cell_type": "code",
      "source": [
        "# Explanation:\n",
        "# Animal is an abstract class that defines an abstract method make_sound(). Any subclass of Animal is required to provide an implementation for this method.\n",
        "# Dog is a concrete class that inherits from Animal and provides the implementation for the abstract method make_sound().\n",
        "# If you attempt to instantiate Animal directly, Python will raise a TypeError because abstract classes cannot be instantiated."
      ],
      "metadata": {
        "id": "1xwFLQgMgIIg"
      },
      "execution_count": null,
      "outputs": []
    },
    {
      "cell_type": "code",
      "source": [
        "#Q.37 Explain the importance of abstraction in object-oriented programming."
      ],
      "metadata": {
        "id": "wRD7RKp1gaWo"
      },
      "execution_count": null,
      "outputs": []
    },
    {
      "cell_type": "code",
      "source": [
        "# Importance of Abstraction in Object-Oriented Programming (OOP):\n",
        "# Abstraction is a fundamental concept in Object-Oriented Programming (OOP) that plays a critical role in designing complex systems by simplifying and managing the complexity of software development. It allows developers to focus on the what (functionality) rather than the how (implementation), which leads to more robust, flexible, and maintainable systems.\n",
        "\n",
        "# Here are several reasons why abstraction is important in OOP:"
      ],
      "metadata": {
        "id": "YebL5hm6ilJU"
      },
      "execution_count": null,
      "outputs": []
    },
    {
      "cell_type": "code",
      "source": [
        "# 1. Simplifies Complexity:\n",
        "# Abstraction reduces the complexity of a system by hiding the intricate details of how an object operates and presenting only essential information. Users of a class don’t need to understand how methods work internally; they just need to know how to interact with them.\n",
        "# Example: When using a car, you only care about how to drive it (accelerate, brake, steer) without needing to understand the inner workings of the engine or transmission.\n",
        "# 2. Encourages Modularity:\n",
        "# Abstraction encourages developers to break down a system into smaller, modular components (objects). This modular design makes it easier to develop, test, and maintain the software. Each module can be developed and updated independently without affecting others.\n",
        "# Example: A software application may have abstract classes for different modules, like PaymentProcessor, UserAuthentication, or NotificationService. Their implementations may vary, but the interaction with them remains consistent.\n",
        "# 3. Facilitates Code Reusability:\n",
        "# Abstract classes and interfaces allow developers to create a general framework or blueprint for a system. This promotes code reusability because multiple subclasses can inherit from the abstract class and provide their own implementations while maintaining the overall structure.\n",
        "# Example: An abstract class Shape with an abstract method draw() can be inherited by subclasses like Circle, Square, and Triangle, each providing its own implementation of the draw() method.\n",
        "# 4. Promotes Loose Coupling:\n",
        "# By using abstraction, a class can interact with abstract interfaces or base classes instead of concrete implementations. This reduces the dependency between classes, promoting loose coupling, which makes the system more flexible and easier to maintain or extend.\n",
        "# Example: A class that works with an abstract class Database can work with different databases (e.g., MySQL, PostgreSQL, MongoDB) without requiring changes to the code, as long as they all follow the interface defined by Database.\n",
        "# 5. Enhances Flexibility and Extensibility:\n",
        "# Abstraction allows changes to the internal implementation without affecting the external interface. This means that developers can modify or extend the internal workings of a class without breaking the code that depends on it.\n",
        "# Example: If an abstract method processPayment() exists, the internal logic of how payments are processed can change (e.g., switching from credit card processing to cryptocurrency) without affecting how external code interacts with the processPayment() method.\n",
        "# 6. Improves Maintenance and Scalability:\n",
        "# With abstraction, making changes to the system becomes easier because only the internal details need to be altered. This makes the system easier to maintain and scale.\n",
        "# Example: In a large e-commerce platform, a payment module can be abstracted. New payment methods (like PayPal or Google Pay) can be added by simply extending the abstract class, without having to modify the rest of the system.\n",
        "# 7. Provides a Clear Interface:\n",
        "# Abstraction allows developers to define a clear interface for the interaction between objects. Abstract methods provide a consistent way to interact with objects of different types without knowing the exact implementation of those objects.\n",
        "# Example: A media player may have an abstract class MediaPlayer with methods like play(), pause(), and stop(). Whether you are playing an audio file, video file, or streaming content, the same interface is used.\n",
        "# 8. Enforces Implementation Rules:\n",
        "# In OOP, abstraction allows you to enforce implementation rules through abstract classes or interfaces. Classes that inherit from an abstract class must implement certain methods, ensuring that the required functionality is provided.\n",
        "# Example: An abstract class Animal with an abstract method make_sound() ensures that all subclasses (e.g., Dog, Cat, Bird) implement their own version of make_sound()."
      ],
      "metadata": {
        "id": "McTMuVApjhrj"
      },
      "execution_count": null,
      "outputs": []
    },
    {
      "cell_type": "code",
      "source": [
        "# Summary of Benefits:\n",
        "# Reduces complexity by hiding unnecessary details.\n",
        "# Enhances reusability by allowing shared behavior among multiple classes.\n",
        "# Promotes flexibility and ease of extension by decoupling classes.\n",
        "# Improves maintainability by allowing changes without affecting the entire system.\n",
        "# Enforces a clear contract between different parts of a program, leading to more reliable and understandable code."
      ],
      "metadata": {
        "id": "ZJfxnRPKjpQ0"
      },
      "execution_count": null,
      "outputs": []
    },
    {
      "cell_type": "code",
      "source": [
        "#Q.38 How are abstract methods different from regular methods in Python?"
      ],
      "metadata": {
        "id": "G9dXUfBajvlZ"
      },
      "execution_count": null,
      "outputs": []
    },
    {
      "cell_type": "code",
      "source": [
        "# Difference Between Abstract Methods and Regular Methods in Python:\n",
        "# In Python, abstract methods and regular methods serve different purposes in object-oriented programming. Below is a comparison between the two:\n",
        "\n",
        "# Aspect\tAbstract Methods\tRegular Methods\n",
        "# Definition\tDeclared in an abstract class and contain no implementation.\tContain both the method signature and full implementation.\n",
        "# Implementation\tMust be implemented by subclasses of the abstract class.\tAlready implemented in the class where they are defined.\n",
        "# Class Type\tDefined in an abstract class (usually using ABC from the abc module).\tDefined in any regular class.\n",
        "# Purpose\tEnforce a contract for subclasses, ensuring they implement specific methods.\tProvide functionality directly within the class.\n",
        "# Instantiation\tClasses with abstract methods cannot be instantiated directly.\tClasses with regular methods can be instantiated directly.\n",
        "# Declaration Syntax\tUse the @abstractmethod decorator in Python.\tDeclared as normal methods, using def keyword.\n",
        "# Usage\tServe as placeholders for methods that must be implemented in subclasses.\tProvide immediate functionality that can be used when an object is instantiated.\n",
        "# Subclass Requirement\tMust be overridden by all subclasses unless the subclass is also abstract.\tCan be inherited and optionally overridden by subclasses."
      ],
      "metadata": {
        "id": "HZcn9gvu0pPq"
      },
      "execution_count": null,
      "outputs": []
    },
    {
      "cell_type": "code",
      "source": [
        "# Detailed Explanation:\n",
        "# 1. Abstract Methods:\n",
        "# Abstract methods are used to define a contract for subclasses. These methods are declared in an abstract class but provide no implementation.\n",
        "\n",
        "# Subclasses must implement all abstract methods in order to be instantiated; otherwise, Python will raise an error.\n",
        "\n",
        "# They are useful in scenarios where you want to ensure that subclasses provide specific behaviors."
      ],
      "metadata": {
        "id": "tSBPn06E1CUZ"
      },
      "execution_count": null,
      "outputs": []
    },
    {
      "cell_type": "code",
      "source": [
        "from abc import ABC, abstractmethod\n",
        "\n",
        "class Animal(ABC):\n",
        "    @abstractmethod\n",
        "    def make_sound(self):\n",
        "        pass\n",
        "\n",
        "class Dog(Animal):\n",
        "    def make_sound(self):\n",
        "        print(\"Woof!\")\n",
        "\n",
        "dog = Dog()\n",
        "dog.make_sound()"
      ],
      "metadata": {
        "colab": {
          "base_uri": "https://localhost:8080/"
        },
        "id": "3O5pK5RH1Z0B",
        "outputId": "2b3cd5c0-7425-4745-8904-fe6427d44675"
      },
      "execution_count": null,
      "outputs": [
        {
          "output_type": "stream",
          "name": "stdout",
          "text": [
            "Woof!\n"
          ]
        }
      ]
    },
    {
      "cell_type": "code",
      "source": [
        "# 2. Regular Methods:\n",
        "# Regular methods, on the other hand, have both a signature and an implementation within the class they are defined in.\n",
        "\n",
        "# These methods are available as soon as you instantiate the class, and they provide specific functionality.\n",
        "\n",
        "# Subclasses can inherit these methods and optionally override them."
      ],
      "metadata": {
        "id": "17x3lkUb1ggJ"
      },
      "execution_count": null,
      "outputs": []
    },
    {
      "cell_type": "code",
      "source": [
        "class Animal:\n",
        "    def move(self):\n",
        "        print(\"Animal moves\")\n",
        "\n",
        "class Dog(Animal):\n",
        "    def move(self):\n",
        "        print(\"Dog runs\")\n",
        "\n",
        "animal = Animal()\n",
        "animal.move()\n",
        "\n",
        "dog = Dog()\n",
        "dog.move()"
      ],
      "metadata": {
        "colab": {
          "base_uri": "https://localhost:8080/"
        },
        "id": "atAMu72H1wXg",
        "outputId": "63b6e42f-c862-4b24-bfc7-3005d60fda85"
      },
      "execution_count": null,
      "outputs": [
        {
          "output_type": "stream",
          "name": "stdout",
          "text": [
            "Animal moves\n",
            "Dog runs\n"
          ]
        }
      ]
    },
    {
      "cell_type": "code",
      "source": [
        "# Key Points to Remember:\n",
        "# Abstract methods must be implemented in subclasses, making them a way to enforce certain behavior across multiple classes.\n",
        "# Regular methods provide concrete functionality that can be used directly or modified in subclasses.\n",
        "# Abstract methods ensure that certain functionality is implemented in subclasses, whereas regular methods already provide behavior that subclasses can use or customize."
      ],
      "metadata": {
        "id": "IEAuV4oS1zIg"
      },
      "execution_count": null,
      "outputs": []
    },
    {
      "cell_type": "code",
      "source": [
        "#Q.39 How can you achieve abstraction using interfaces in python?"
      ],
      "metadata": {
        "id": "VQQty3mM19MH"
      },
      "execution_count": null,
      "outputs": []
    },
    {
      "cell_type": "code",
      "source": [
        "from abc import ABC, abstractmethod\n",
        "\n",
        "class Shape(ABC):\n",
        "    @abstractmethod\n",
        "    def area(self):\n",
        "        pass\n",
        "\n",
        "    @abstractmethod\n",
        "    def perimeter(self):\n",
        "        pass\n",
        "\n",
        "class Rectangle(Shape):\n",
        "    def __init__(self, width, height):\n",
        "        self.width = width\n",
        "        self.height = height\n",
        "\n",
        "    def area(self):\n",
        "        return self.width * self.height\n",
        "\n",
        "    def perimeter(self):\n",
        "        return 2 * (self.width + self.height)\n",
        "\n",
        "class Circle(Shape):\n",
        "    def __init__(self, radius):\n",
        "        self.radius = radius\n",
        "\n",
        "    def area(self):\n",
        "        return 3.14 * self.radius * self.radius\n",
        "\n",
        "    def perimeter(self):\n",
        "        return 2 * 3.14 * self.radius\n",
        "\n",
        "rectangle = Rectangle(10, 20)\n",
        "circle = Circle(5)\n",
        "\n",
        "print(\"Rectangle Area:\", rectangle.area())\n",
        "print(\"Rectangle Perimeter:\", rectangle.perimeter())\n",
        "\n",
        "print(\"Circle Area:\", circle.area())\n",
        "print(\"Circle Perimeter:\", circle.perimeter())"
      ],
      "metadata": {
        "colab": {
          "base_uri": "https://localhost:8080/"
        },
        "id": "U78Hib02mkUZ",
        "outputId": "3a65dc6c-49dc-47be-c709-d8d12d67c03c"
      },
      "execution_count": null,
      "outputs": [
        {
          "output_type": "stream",
          "name": "stdout",
          "text": [
            "Rectangle Area: 200\n",
            "Rectangle Perimeter: 60\n",
            "Circle Area: 78.5\n",
            "Circle Perimeter: 31.400000000000002\n"
          ]
        }
      ]
    },
    {
      "cell_type": "code",
      "source": [
        "#Q.40 Can you provide an example of how abstraction can be utilized to create a common interface for a group of related classes in python?"
      ],
      "metadata": {
        "id": "YorxH__dm7_v"
      },
      "execution_count": null,
      "outputs": []
    },
    {
      "cell_type": "code",
      "source": [
        "from abc import ABC, abstractmethod\n",
        "\n",
        "class Payment(ABC):\n",
        "\n",
        "    @abstractmethod\n",
        "    def initiate_payment(self, amount):\n",
        "        \"\"\"Initiate the payment with the given amount.\"\"\"\n",
        "        pass\n",
        "\n",
        "    @abstractmethod\n",
        "    def process_payment(self):\n",
        "        \"\"\"Process the payment.\"\"\"\n",
        "        pass\n",
        "\n",
        "    @abstractmethod\n",
        "    def confirm_payment(self):\n",
        "        \"\"\"Confirm the payment after processing.\"\"\"\n",
        "        pass\n",
        "\n",
        "\n",
        "class CreditCardPayment(Payment):\n",
        "    def __init__(self, card_number, card_holder_name):\n",
        "        self.card_number = card_number\n",
        "        self.card_holder_name = card_holder_name\n",
        "        self.amount = 0\n",
        "\n",
        "    def initiate_payment(self, amount):\n",
        "        self.amount = amount\n",
        "        print(f\"Credit Card payment of {amount} initiated.\")\n",
        "\n",
        "    def process_payment(self):\n",
        "        print(f\"Processing Credit Card payment for {self.card_holder_name}...\")\n",
        "\n",
        "    def confirm_payment(self):\n",
        "        print(f\"Credit Card payment of {self.amount} confirmed.\\n\")\n",
        "\n",
        "\n",
        "class PayPalPayment(Payment):\n",
        "    def __init__(self, paypal_id):\n",
        "        self.paypal_id = paypal_id\n",
        "        self.amount = 0\n",
        "\n",
        "    def initiate_payment(self, amount):\n",
        "        self.amount = amount\n",
        "        print(f\"PayPal payment of {amount} initiated.\")\n",
        "\n",
        "    def process_payment(self):\n",
        "        print(f\"Processing PayPal payment for {self.paypal_id}...\")\n",
        "\n",
        "    def confirm_payment(self):\n",
        "        print(f\"PayPal payment of {self.amount} confirmed.\\n\")\n",
        "\n",
        "\n",
        "class BankTransferPayment(Payment):\n",
        "    def __init__(self, account_number, account_holder_name):\n",
        "        self.account_number = account_number\n",
        "        self.account_holder_name = account_holder_name\n",
        "        self.amount = 0\n",
        "\n",
        "    def initiate_payment(self, amount):\n",
        "        self.amount = amount\n",
        "        print(f\"Bank Transfer of {amount} initiated.\")\n",
        "\n",
        "    def process_payment(self):\n",
        "        print(f\"Processing Bank Transfer for {self.account_holder_name}...\")\n",
        "\n",
        "    def confirm_payment(self):\n",
        "        print(f\"Bank Transfer of {self.amount} confirmed.\\n\")\n",
        "\n",
        "\n",
        "def process_payment_method(payment_method, amount):\n",
        "    payment_method.initiate_payment(amount)\n",
        "    payment_method.process_payment()\n",
        "    payment_method.confirm_payment()\n",
        "\n",
        "\n",
        "credit_card = CreditCardPayment(\"1234 5678 9876 5432\", \"John Doe\")\n",
        "paypal = PayPalPayment(\"john.doe@example.com\")\n",
        "bank_transfer = BankTransferPayment(\"987654321\", \"John Doe\")\n",
        "\n",
        "process_payment_method(credit_card, 100)\n",
        "process_payment_method(paypal, 150)\n",
        "process_payment_method(bank_transfer, 200)"
      ],
      "metadata": {
        "colab": {
          "base_uri": "https://localhost:8080/"
        },
        "id": "_duZfWeVoSo1",
        "outputId": "e794a8b2-d114-48e9-e476-900b34814b4a"
      },
      "execution_count": null,
      "outputs": [
        {
          "output_type": "stream",
          "name": "stdout",
          "text": [
            "Credit Card payment of 100 initiated.\n",
            "Processing Credit Card payment for John Doe...\n",
            "Credit Card payment of 100 confirmed.\n",
            "\n",
            "PayPal payment of 150 initiated.\n",
            "Processing PayPal payment for john.doe@example.com...\n",
            "PayPal payment of 150 confirmed.\n",
            "\n",
            "Bank Transfer of 200 initiated.\n",
            "Processing Bank Transfer for John Doe...\n",
            "Bank Transfer of 200 confirmed.\n",
            "\n"
          ]
        }
      ]
    },
    {
      "cell_type": "code",
      "source": [
        "#Q.41 How does python achieve polymorphism through method overriding?"
      ],
      "metadata": {
        "id": "-AkBV2ljpS8y"
      },
      "execution_count": null,
      "outputs": []
    },
    {
      "cell_type": "code",
      "source": [
        "class Animal:\n",
        "    def sound(self):\n",
        "        return \"Some generic animal sound\"\n",
        "\n",
        "class Dog(Animal):\n",
        "    def sound(self):\n",
        "        return \"Bark\"\n",
        "\n",
        "class Cat(Animal):\n",
        "    def sound(self):\n",
        "        return \"Meow\"\n",
        "\n",
        "def make_sound(animal):\n",
        "    print(animal.sound())\n",
        "\n",
        "dog = Dog()\n",
        "cat = Cat()\n",
        "\n",
        "make_sound(dog)\n",
        "make_sound(cat)"
      ],
      "metadata": {
        "colab": {
          "base_uri": "https://localhost:8080/"
        },
        "id": "TV4TaycTwuLE",
        "outputId": "d8ddd69f-f446-4b24-c0ee-439ad0f2b6d4"
      },
      "execution_count": null,
      "outputs": [
        {
          "output_type": "stream",
          "name": "stdout",
          "text": [
            "Bark\n",
            "Meow\n"
          ]
        }
      ]
    },
    {
      "cell_type": "code",
      "source": [
        "#Q.42 Define a base class with a method and a subclass that overrides the method."
      ],
      "metadata": {
        "id": "SySLMzsfxVpB"
      },
      "execution_count": null,
      "outputs": []
    },
    {
      "cell_type": "code",
      "source": [
        "class Animal:\n",
        "    def make_sound(self):\n",
        "        return \"Some generic animal sound\"\n",
        "\n",
        "class Dog(Animal):\n",
        "    def make_sound(self):\n",
        "        return \"Bark\"\n",
        "\n",
        "generic_animal = Animal()\n",
        "dog = Dog()\n",
        "\n",
        "print(generic_animal.make_sound())\n",
        "print(dog.make_sound())\n"
      ],
      "metadata": {
        "colab": {
          "base_uri": "https://localhost:8080/"
        },
        "id": "YbP8v6dEyLEP",
        "outputId": "a0464172-0359-4feb-b2ef-34d5de52ae5a"
      },
      "execution_count": null,
      "outputs": [
        {
          "output_type": "stream",
          "name": "stdout",
          "text": [
            "Some generic animal sound\n",
            "Bark\n"
          ]
        }
      ]
    },
    {
      "cell_type": "code",
      "source": [
        "class Animal:\n",
        "    def sound(self):\n",
        "        return \"Some generic animal sound\"\n",
        "\n",
        "class Dog(Animal):\n",
        "    def sound(self):\n",
        "        return \"Bark\"\n",
        "\n",
        "animal = Animal()\n",
        "dog = Dog()\n",
        "\n",
        "print(animal.sound())\n",
        "print(dog.sound())"
      ],
      "metadata": {
        "colab": {
          "base_uri": "https://localhost:8080/"
        },
        "id": "1ms8ti_9zXCG",
        "outputId": "758b73fd-ec19-402c-cb3d-f2c5cd863db7"
      },
      "execution_count": null,
      "outputs": [
        {
          "output_type": "stream",
          "name": "stdout",
          "text": [
            "Some generic animal sound\n",
            "Bark\n"
          ]
        }
      ]
    },
    {
      "cell_type": "code",
      "source": [
        "#Q.43 Define a base class and multiple subclasses with overridden methods."
      ],
      "metadata": {
        "id": "xLBXFpUwzZmE"
      },
      "execution_count": null,
      "outputs": []
    },
    {
      "cell_type": "code",
      "source": [
        "import math\n",
        "\n",
        "class Shape:\n",
        "    def area(self):\n",
        "        raise NotImplementedError(\"Subclasses must implement this method\")\n",
        "\n",
        "    def perimeter(self):\n",
        "        raise NotImplementedError(\"Subclasses must implement this method\")\n",
        "\n",
        "class Circle(Shape):\n",
        "    def __init__(self, radius):\n",
        "        self.radius = radius\n",
        "\n",
        "    def area(self):\n",
        "        return math.pi * self.radius ** 2\n",
        "\n",
        "    def perimeter(self):\n",
        "        return 2 * math.pi * self.radius\n",
        "\n",
        "class Rectangle(Shape):\n",
        "    def __init__(self, width, height):\n",
        "        self.width = width\n",
        "        self.height = height\n",
        "\n",
        "    def area(self):\n",
        "        return self.width * self.height\n",
        "\n",
        "    def perimeter(self):\n",
        "        return 2 * (self.width + self.height)\n",
        "\n",
        "circle = Circle(5)\n",
        "rectangle = Rectangle(4, 6)\n",
        "\n",
        "print(f\"Circle Area: {circle.area()}\")\n",
        "print(f\"Circle Perimeter: {circle.perimeter()}\")\n",
        "\n",
        "print(f\"Rectangle Area: {rectangle.area()}\")\n",
        "print(f\"Rectangle Perimeter: {rectangle.perimeter()}\")"
      ],
      "metadata": {
        "colab": {
          "base_uri": "https://localhost:8080/"
        },
        "id": "z8gmBykjtbnu",
        "outputId": "69505bae-614b-4f6d-ca94-c6fba8bedb9e"
      },
      "execution_count": null,
      "outputs": [
        {
          "output_type": "stream",
          "name": "stdout",
          "text": [
            "Circle Area: 78.53981633974483\n",
            "Circle Perimeter: 31.41592653589793\n",
            "Rectangle Area: 24\n",
            "Rectangle Perimeter: 20\n"
          ]
        }
      ]
    },
    {
      "cell_type": "code",
      "source": [
        "#Q.44 How does polymorphism improve code readability and reusability?"
      ],
      "metadata": {
        "id": "OWSt8se6uOKt"
      },
      "execution_count": null,
      "outputs": []
    },
    {
      "cell_type": "code",
      "source": [
        "# Polymorphism enhances code readability and reusability in several key ways:\n",
        "\n",
        "# 1. Unified Interface\n",
        "# Polymorphism allows different classes to be treated through a common interface (e.g., a base class or an interface). This means that you can call the same method on different objects without needing to know their specific types.\n",
        "\n",
        "# Example: If you have a function that takes an instance of a base class, you can pass any subclass instance without changing the function's implementation.\n",
        "# 2. Simplified Code\n",
        "# When polymorphism is used, the code can be more concise and easier to understand. Instead of writing multiple conditional statements to handle different types, you can rely on method overriding to define the behavior.\n",
        "\n",
        "# Example: A single draw method can handle various shapes like circles and rectangles without checking their types explicitly.\n",
        "# 3. Encapsulation of Behavior\n",
        "# With polymorphism, each subclass can encapsulate its specific behavior while still conforming to a general contract set by the base class. This separation of concerns makes the codebase cleaner and more maintainable.\n",
        "\n",
        "# Example: Each shape can implement its own area method, keeping the shape-specific logic contained within that class.\n",
        "# 4. Easier Maintenance and Updates\n",
        "# When changes are needed (e.g., adding a new shape), you can create a new subclass without modifying existing code. This follows the Open/Closed Principle, which states that software entities should be open for extension but closed for modification.\n",
        "\n",
        "# Example: Adding a new shape class doesn’t require changes to the existing classes or the functions that use them.\n",
        "# 5. Enhanced Flexibility\n",
        "# Polymorphism allows for greater flexibility in how objects interact. You can switch implementations at runtime (for example, through dependency injection) without altering the code that uses these objects.\n",
        "\n",
        "# Example: You can pass different implementations of a logger (e.g., console logger, file logger) to a class that depends on logging without changing the class itself.\n",
        "# Summary\n",
        "# Polymorphism leads to cleaner, more organized code that is easier to read, understand, and extend. By promoting a common interface and enabling the encapsulation of behavior, it greatly enhances code reusability and maintainability, making it a fundamental concept in object-oriented programming."
      ],
      "metadata": {
        "id": "4VOS25HoxZI1"
      },
      "execution_count": null,
      "outputs": []
    },
    {
      "cell_type": "code",
      "source": [
        "#Q.45 Describe how python supports polymorphism with duck typing."
      ],
      "metadata": {
        "id": "r57vziTmxhOy"
      },
      "execution_count": null,
      "outputs": []
    },
    {
      "cell_type": "code",
      "source": [
        "class Duck:\n",
        "    def quack(self):\n",
        "        return \"Quack!\"\n",
        "\n",
        "class Dog:\n",
        "    def quack(self):\n",
        "        return \"Woof, but I can quack too!\"\n",
        "\n",
        "def make_it_quack(animal):\n",
        "    print(animal.quack())\n",
        "\n",
        "duck = Duck()\n",
        "dog = Dog()\n",
        "\n",
        "make_it_quack(duck)\n",
        "make_it_quack(dog)"
      ],
      "metadata": {
        "colab": {
          "base_uri": "https://localhost:8080/"
        },
        "id": "FJkqOANd19OL",
        "outputId": "669f3f65-5905-48f4-88e7-885839c1342d"
      },
      "execution_count": null,
      "outputs": [
        {
          "output_type": "stream",
          "name": "stdout",
          "text": [
            "Quack!\n",
            "Woof, but I can quack too!\n"
          ]
        }
      ]
    },
    {
      "cell_type": "code",
      "source": [
        "#Q.46 How do you achieve encapulation in python?"
      ],
      "metadata": {
        "id": "xvB6rEC54DM0"
      },
      "execution_count": null,
      "outputs": []
    },
    {
      "cell_type": "code",
      "source": [
        "class Account:\n",
        "    def __init__(self, balance):\n",
        "        self.__balance = balance"
      ],
      "metadata": {
        "id": "gD8FA9sf4g3b"
      },
      "execution_count": null,
      "outputs": []
    },
    {
      "cell_type": "code",
      "source": [
        "class Account:\n",
        "    def __init__(self, balance):\n",
        "        self.__balance = balance\n",
        "\n",
        "    def deposit(self, amount):\n",
        "        if amount > 0:\n",
        "            self.__balance += amount\n",
        "\n",
        "    def get_balance(self):\n",
        "        return self.__balance"
      ],
      "metadata": {
        "id": "dqnx7hG55feR"
      },
      "execution_count": null,
      "outputs": []
    },
    {
      "cell_type": "code",
      "source": [
        "class Account:\n",
        "    def __init__(self, balance):\n",
        "        self.__balance = balance\n",
        "\n",
        "    def get_balance(self):\n",
        "        return self.__balance\n",
        "\n",
        "    def set_balance(self, new_balance):\n",
        "        if new_balance >= 0:\n",
        "            self.__balance = new_balance"
      ],
      "metadata": {
        "id": "JH6R2plR5i8h"
      },
      "execution_count": null,
      "outputs": []
    },
    {
      "cell_type": "code",
      "source": [
        "account = Account(100)\n",
        "print(account._Account__balance)"
      ],
      "metadata": {
        "colab": {
          "base_uri": "https://localhost:8080/"
        },
        "id": "HuaSYD2q5r9Y",
        "outputId": "c05e330c-2c52-40ff-df4d-64c1b4e6e8d2"
      },
      "execution_count": null,
      "outputs": [
        {
          "output_type": "stream",
          "name": "stdout",
          "text": [
            "100\n"
          ]
        }
      ]
    },
    {
      "cell_type": "code",
      "source": [
        "#Q.47 Can encapsulation be bypassed in python? if so, how?"
      ],
      "metadata": {
        "id": "RHc1jgc-5vDf"
      },
      "execution_count": null,
      "outputs": []
    },
    {
      "cell_type": "code",
      "source": [
        "# Yes, encapsulation can be bypassed in Python due to the language's flexibility. While Python supports encapsulation through the use of private attributes (by prefixing them with double underscores __), these mechanisms can be bypassed using the following methods:\n",
        "\n",
        "# 1. Name Mangling:\n",
        "# Python uses name mangling to \"protect\" private attributes by prefixing them with _ClassName. However, this is just a convention, and you can still access the private attribute using its mangled name.\n"
      ],
      "metadata": {
        "id": "KjK1U_XX7REF"
      },
      "execution_count": null,
      "outputs": []
    },
    {
      "cell_type": "code",
      "source": [
        "class Account:\n",
        "    def __init__(self, balance):\n",
        "        self.__balance = balance  # Private attribute\n",
        "\n",
        "account = Account(100)\n",
        "print(account._Account__balance)  # Bypassing encapsulation"
      ],
      "metadata": {
        "colab": {
          "base_uri": "https://localhost:8080/"
        },
        "id": "1QB2tkIx7prD",
        "outputId": "0710bddf-5fd5-49a2-aae3-7f7be9adab1f"
      },
      "execution_count": null,
      "outputs": [
        {
          "output_type": "stream",
          "name": "stdout",
          "text": [
            "100\n"
          ]
        }
      ]
    },
    {
      "cell_type": "code",
      "source": [
        "#  Using getattr():\n",
        "# The getattr() function allows access to an attribute by its name. You can bypass encapsulation by passing the mangled name of the private attribute."
      ],
      "metadata": {
        "id": "tQ7qciln7rvL"
      },
      "execution_count": null,
      "outputs": []
    },
    {
      "cell_type": "code",
      "source": [
        "print(getattr(account, \"_Account__balance\"))"
      ],
      "metadata": {
        "colab": {
          "base_uri": "https://localhost:8080/"
        },
        "id": "mFTPXOuR8QBq",
        "outputId": "d63c765e-4bd1-4f8a-9cec-6b11e3490e4e"
      },
      "execution_count": null,
      "outputs": [
        {
          "output_type": "stream",
          "name": "stdout",
          "text": [
            "100\n"
          ]
        }
      ]
    },
    {
      "cell_type": "code",
      "source": [
        "# Using setattr():\n",
        "# Similarly, you can use setattr() to modify a private attribute directly by passing its mangled name."
      ],
      "metadata": {
        "id": "ah0MTc8t8R0q"
      },
      "execution_count": null,
      "outputs": []
    },
    {
      "cell_type": "code",
      "source": [
        "setattr(account, \"_Account__balance\", 200)\n",
        "print(account.get_balance())"
      ],
      "metadata": {
        "id": "oQwq9z4X_kvQ"
      },
      "execution_count": null,
      "outputs": []
    },
    {
      "cell_type": "code",
      "source": [
        "# . Modifying Attributes Using __dict__:\n",
        "# Python objects store their attributes in a dictionary-like structure called __dict__. You can directly modify private attributes through this dictionary."
      ],
      "metadata": {
        "id": "SMHbu-IfA4jd"
      },
      "execution_count": null,
      "outputs": []
    },
    {
      "cell_type": "code",
      "source": [
        "account.__dict__['_Account__balance'] = 300\n",
        "print(account.get_balance())"
      ],
      "metadata": {
        "id": "ZurrjcvZBIGI"
      },
      "execution_count": null,
      "outputs": []
    },
    {
      "cell_type": "code",
      "source": [
        "# 5. Inspecting Attributes with dir():\n",
        "# The dir() function lists all available attributes of an object, including private ones with their mangled names. You can use this to identify the mangled name and access or modify the private attribute."
      ],
      "metadata": {
        "id": "-M10l4waBO20"
      },
      "execution_count": null,
      "outputs": []
    },
    {
      "cell_type": "code",
      "source": [
        "print(dir(account))\n"
      ],
      "metadata": {
        "colab": {
          "base_uri": "https://localhost:8080/"
        },
        "id": "MelshljtEKmh",
        "outputId": "cdd2d30c-73f8-4735-bdab-efce64b51ea9"
      },
      "execution_count": null,
      "outputs": [
        {
          "output_type": "stream",
          "name": "stdout",
          "text": [
            "['_Account__balance', '__class__', '__delattr__', '__dict__', '__dir__', '__doc__', '__eq__', '__format__', '__ge__', '__getattribute__', '__gt__', '__hash__', '__init__', '__init_subclass__', '__le__', '__lt__', '__module__', '__ne__', '__new__', '__reduce__', '__reduce_ex__', '__repr__', '__setattr__', '__sizeof__', '__str__', '__subclasshook__', '__weakref__']\n"
          ]
        }
      ]
    },
    {
      "cell_type": "code",
      "source": [
        "#Q.48 Implement a class BankAccount with a private balance attribute.Include methods to deposite,withdraw,and check the balance."
      ],
      "metadata": {
        "id": "x3Kp_aDCEMhh"
      },
      "execution_count": null,
      "outputs": []
    },
    {
      "cell_type": "code",
      "source": [
        "class BankAccount:\n",
        "    def __init__(self, initial_balance=0):\n",
        "        self.__balance = initial_balance\n",
        "\n",
        "    def deposit(self, amount):\n",
        "        if amount > 0:\n",
        "            self.__balance += amount\n",
        "            print(f\"Deposited: {amount}\")\n",
        "        else:\n",
        "            print(\"Deposit amount must be positive!\")\n",
        "\n",
        "    def withdraw(self, amount):\n",
        "        if amount > 0:\n",
        "            if amount <= self.__balance:\n",
        "                self.__balance -= amount\n",
        "                print(f\"Withdrawn: {amount}\")\n",
        "            else:\n",
        "                print(\"Insufficient balance!\")\n",
        "        else:\n",
        "            print(\"Withdrawal amount must be positive!\")\n",
        "\n",
        "    def check_balance(self):\n",
        "        return self.__balance\n",
        "\n",
        "account = BankAccount(100)\n",
        "account.withdraw(30)\n",
        "print(\"Current balance:\", account.check_balance())"
      ],
      "metadata": {
        "colab": {
          "base_uri": "https://localhost:8080/"
        },
        "id": "qnVEop28FBdv",
        "outputId": "f5f9e693-8ca0-4672-e0e2-60f7746bbaef"
      },
      "execution_count": null,
      "outputs": [
        {
          "output_type": "stream",
          "name": "stdout",
          "text": [
            "Withdrawn: 30\n",
            "Current balance: 70\n"
          ]
        }
      ]
    },
    {
      "cell_type": "code",
      "source": [
        "#Q.49 Develop a person class with private attributes name and email,and methods to set and get the email."
      ],
      "metadata": {
        "id": "J9hvrTPjFL8H"
      },
      "execution_count": null,
      "outputs": []
    },
    {
      "cell_type": "code",
      "source": [
        "class Person:\n",
        "    def __init__(self, name, email):\n",
        "        self.__name = name\n",
        "        self.__email = email\n",
        "\n",
        "    def set_email(self, email):\n",
        "        self.__email = email\n",
        "\n",
        "    def get_email(self):\n",
        "        return self.__email\n",
        "\n",
        "person = Person(\"John Doe\", \"john@example.com\")\n",
        "print(\"Initial email:\", person.get_email())\n",
        "\n",
        "person.set_email(\"john.doe@newmail.com\")\n",
        "print(\"Updated email:\", person.get_email())"
      ],
      "metadata": {
        "colab": {
          "base_uri": "https://localhost:8080/"
        },
        "id": "tdafao9JH1Ub",
        "outputId": "77170ad9-08d0-4664-c012-19b085956a88"
      },
      "execution_count": null,
      "outputs": [
        {
          "output_type": "stream",
          "name": "stdout",
          "text": [
            "Initial email: john@example.com\n",
            "Updated email: john.doe@newmail.com\n"
          ]
        }
      ]
    },
    {
      "cell_type": "code",
      "source": [
        "#Q.50 Why is encapsulation considered a pillar of object-oriented programming(OOP)?"
      ],
      "metadata": {
        "id": "TAqzWZ25H_Ug"
      },
      "execution_count": null,
      "outputs": []
    },
    {
      "cell_type": "code",
      "source": [
        "# Encapsulation is considered one of the four fundamental pillars of object-oriented programming (OOP), along with inheritance, polymorphism, and abstraction. Encapsulation refers to the concept of bundling data (attributes) and methods (functions) that operate on the data into a single unit, or class, while restricting access to some of the object’s components. Here's why encapsulation is so important:\n",
        "\n",
        "# 1. Data Protection (Controlled Access)\n",
        "# Encapsulation allows the internal representation of an object to be hidden from the outside. It ensures that the object's data cannot be directly accessed and modified, which protects it from unintended changes or misuse. By providing controlled access through getter and setter methods, you maintain control over how the data is read or modified.\n",
        "\n",
        "# Example: In the Person class from the previous example, the __email attribute is private. You can only access or change it through the provided methods, ensuring that data is modified in a controlled way.\n",
        "# 2. Improved Code Maintainability and Flexibility\n",
        "# Encapsulation allows developers to change the internal implementation of a class without affecting how other parts of the program interact with it. This means that if you need to modify how data is stored or calculated, you can do so without requiring changes in the code that uses your class.\n",
        "\n",
        "# Example: If you later decide to store email addresses in a different format, you only need to update the setter and getter methods, without breaking the code that relies on these methods.\n",
        "# 3. Increased Modularity\n",
        "# Encapsulation helps in breaking down a program into modular components, where each class has clearly defined roles and responsibilities. This modularity makes the system easier to understand, develop, test, and maintain.\n",
        "\n",
        "# 4. Encourages Reusability\n",
        "# Encapsulated classes can be reused in other parts of a program or even in different programs, without worrying about how they are implemented internally. This promotes cleaner, reusable, and more maintainable code.\n",
        "\n",
        "# 5. Prevents Unintended Interactions\n",
        "# By controlling access to the internal state of an object, encapsulation prevents external code from depending on the internal workings of the object. This makes it less likely that changes to one part of the code will inadvertently cause bugs in another part of the program.\n",
        "\n",
        "# Summary:\n",
        "# Encapsulation is a key pillar of OOP because it:\n",
        "\n",
        "# Protects data integrity and security.\n",
        "# Facilitates code maintainability and flexibility.\n",
        "# Promotes modularity and reusability.\n",
        "# Reduces unintended interactions and potential bugs."
      ],
      "metadata": {
        "id": "rnSWsl8CIb4I"
      },
      "execution_count": null,
      "outputs": []
    },
    {
      "cell_type": "code",
      "source": [
        "#Q.51 Create a decorator in python that adds functionality to a simple function by printing a message before and after the function execution."
      ],
      "metadata": {
        "id": "JBsUu6odIpjf"
      },
      "execution_count": null,
      "outputs": []
    },
    {
      "cell_type": "code",
      "source": [
        "def my_decorator(func):\n",
        "    def wrapper(*args, **kwargs):\n",
        "        print(\"Before the function execution.\")\n",
        "        result = func(*args, **kwargs)\n",
        "        print(\"After the function execution.\")\n",
        "        return result\n",
        "    return wrapper\n",
        "\n",
        "@my_decorator\n",
        "def my_function():\n",
        "    print(\"This is the main function.\")\n",
        "\n",
        "my_function()"
      ],
      "metadata": {
        "colab": {
          "base_uri": "https://localhost:8080/"
        },
        "id": "v_bQHIITJKc2",
        "outputId": "cd75807c-1944-4f70-b9ad-e7d11cd5c2b4"
      },
      "execution_count": null,
      "outputs": [
        {
          "output_type": "stream",
          "name": "stdout",
          "text": [
            "Before the function execution.\n",
            "This is the main function.\n",
            "After the function execution.\n"
          ]
        }
      ]
    },
    {
      "cell_type": "code",
      "source": [
        "#Q.52 Modify the decorator to accept arguments and print the function name along with the message."
      ],
      "metadata": {
        "id": "eaiWEZd4J-F8"
      },
      "execution_count": null,
      "outputs": []
    },
    {
      "cell_type": "code",
      "source": [
        "def my_decorator(message):\n",
        "    def decorator(func):\n",
        "        def wrapper(*args, **kwargs):\n",
        "            print(f\"Before executing '{func.__name__}': {message}\")\n",
        "            result = func(*args, **kwargs)\n",
        "            print(f\"After executing '{func.__name__}': {message}\")\n",
        "            return result\n",
        "        return wrapper\n",
        "    return decorator\n",
        "\n",
        "@my_decorator(\"This is a custom message.\")\n",
        "def my_function():\n",
        "    print(\"This is the main function.\")\n",
        "\n",
        "my_function()"
      ],
      "metadata": {
        "colab": {
          "base_uri": "https://localhost:8080/"
        },
        "id": "0D3OlyioKoyi",
        "outputId": "726b1cc8-3f60-4c17-a804-2e7a825eda6f"
      },
      "execution_count": null,
      "outputs": [
        {
          "output_type": "stream",
          "name": "stdout",
          "text": [
            "Before executing 'my_function': This is a custom message.\n",
            "This is the main function.\n",
            "After executing 'my_function': This is a custom message.\n"
          ]
        }
      ]
    },
    {
      "cell_type": "code",
      "source": [
        "#Q.53 Create two decorators,and apply them to a single function.Ensure that they execute in the order they are applied"
      ],
      "metadata": {
        "id": "dBDtDDqTKvzy"
      },
      "execution_count": null,
      "outputs": []
    },
    {
      "cell_type": "code",
      "source": [
        "def decorator_one(func):\n",
        "    def wrapper(*args, **kwargs):\n",
        "        print(\"Decorator One: Before function execution\")\n",
        "        result = func(*args, **kwargs)\n",
        "        print(\"Decorator One: After function execution\")\n",
        "        return result\n",
        "    return wrapper\n",
        "\n",
        "def decorator_two(func):\n",
        "    def wrapper(*args, **kwargs):\n",
        "        print(\"Decorator Two: Before function execution\")\n",
        "        result = func(*args, **kwargs)\n",
        "        print(\"Decorator Two: After function execution\")\n",
        "        return result\n",
        "    return wrapper\n",
        "\n",
        "@decorator_one\n",
        "@decorator_two\n",
        "def my_function():\n",
        "    print(\"This is the main function.\")\n",
        "\n",
        "my_function()"
      ],
      "metadata": {
        "colab": {
          "base_uri": "https://localhost:8080/"
        },
        "id": "sS4FgDtzLdWQ",
        "outputId": "50030e73-4051-4f5f-9a0c-0f895b344e9b"
      },
      "execution_count": null,
      "outputs": [
        {
          "output_type": "stream",
          "name": "stdout",
          "text": [
            "Decorator One: Before function execution\n",
            "Decorator Two: Before function execution\n",
            "This is the main function.\n",
            "Decorator Two: After function execution\n",
            "Decorator One: After function execution\n"
          ]
        }
      ]
    },
    {
      "cell_type": "code",
      "source": [
        "#Q.54 Modify the decorator to accept and pass function arguments to the wrapped function."
      ],
      "metadata": {
        "id": "RTslH3-pLi6M"
      },
      "execution_count": null,
      "outputs": []
    },
    {
      "cell_type": "code",
      "source": [
        "def my_decorator(func):\n",
        "    def wrapper(*args, **kwargs):\n",
        "        print(f\"Before executing '{func.__name__}' with arguments {args} and keyword arguments {kwargs}\")\n",
        "        result = func(*args, **kwargs)\n",
        "        print(f\"After executing '{func.__name__}'\")\n",
        "        return result\n",
        "    return wrapper\n",
        "\n",
        "@my_decorator\n",
        "def my_function(a, b, c=10):\n",
        "    print(f\"Function body: a = {a}, b = {b}, c = {c}\")\n",
        "\n",
        "my_function(1, 2, c=5)"
      ],
      "metadata": {
        "colab": {
          "base_uri": "https://localhost:8080/"
        },
        "id": "-0TUaH0VMC7X",
        "outputId": "2162b675-bd81-4837-aa5f-8b7b81b68696"
      },
      "execution_count": null,
      "outputs": [
        {
          "output_type": "stream",
          "name": "stdout",
          "text": [
            "Before executing 'my_function' with arguments (1, 2) and keyword arguments {'c': 5}\n",
            "Function body: a = 1, b = 2, c = 5\n",
            "After executing 'my_function'\n"
          ]
        }
      ]
    },
    {
      "cell_type": "code",
      "source": [
        "#Q.55 Create a decorator that preserves the metadata of the original function."
      ],
      "metadata": {
        "id": "t3DsuF7qMJIn"
      },
      "execution_count": null,
      "outputs": []
    },
    {
      "cell_type": "code",
      "source": [
        "import functools\n",
        "\n",
        "def my_decorator(func):\n",
        "    @functools.wraps(func)\n",
        "    def wrapper(*args, **kwargs):\n",
        "        print(f\"Before executing '{func.__name__}'\")\n",
        "        result = func(*args, **kwargs)\n",
        "        print(f\"After executing '{func.__name__}'\")\n",
        "        return result\n",
        "    return wrapper\n",
        "\n",
        "@my_decorator\n",
        "def my_function(a, b):\n",
        "    \"\"\"This is my_function that adds two numbers.\"\"\"\n",
        "    return a + b\n",
        "\n",
        "print(f\"Function name: {my_function.__name__}\")\n",
        "print(f\"Function docstring: {my_function.__doc__}\")\n",
        "print(f\"Function result: {my_function(2, 3)}\")"
      ],
      "metadata": {
        "colab": {
          "base_uri": "https://localhost:8080/"
        },
        "id": "xF3B1r0UOZxS",
        "outputId": "d2aaa0f7-8c17-4c05-cc0b-bec8a6776efe"
      },
      "execution_count": null,
      "outputs": [
        {
          "output_type": "stream",
          "name": "stdout",
          "text": [
            "Function name: my_function\n",
            "Function docstring: This is my_function that adds two numbers.\n",
            "Before executing 'my_function'\n",
            "After executing 'my_function'\n",
            "Function result: 5\n"
          ]
        }
      ]
    },
    {
      "cell_type": "code",
      "source": [
        "#Q.56 Create a python class'Calculator'with a static method'add'that takes in two numbers and returns their sum."
      ],
      "metadata": {
        "id": "kd4x0JiEOlsZ"
      },
      "execution_count": null,
      "outputs": []
    },
    {
      "cell_type": "code",
      "source": [
        "class Calculator:\n",
        "    @staticmethod\n",
        "    def add(a, b):\n",
        "        return a + b\n",
        "\n",
        "result = Calculator.add(5, 3)\n",
        "print(\"Sum:\", result)"
      ],
      "metadata": {
        "colab": {
          "base_uri": "https://localhost:8080/"
        },
        "id": "yOWgcaOqP4kW",
        "outputId": "676d3236-31c8-4c42-a4cb-7ba20c51436e"
      },
      "execution_count": null,
      "outputs": [
        {
          "output_type": "stream",
          "name": "stdout",
          "text": [
            "Sum: 8\n"
          ]
        }
      ]
    },
    {
      "cell_type": "code",
      "source": [
        "#Q.57 Create a python class'Employee'with a class'method get_employee_count'that returns the total number of employees created."
      ],
      "metadata": {
        "id": "OBinpWkkP_xW"
      },
      "execution_count": null,
      "outputs": []
    },
    {
      "cell_type": "code",
      "source": [
        "class Employee:\n",
        "    employee_count = 0\n",
        "\n",
        "    def __init__(self, name):\n",
        "        self.name = name\n",
        "        Employee.employee_count += 1\n",
        "\n",
        "    @classmethod\n",
        "    def get_employee_count(cls):\n",
        "        return cls.employee_count\n",
        "\n",
        "emp1 = Employee(\"John\")\n",
        "emp2 = Employee(\"Jane\")\n",
        "emp3 = Employee(\"Alice\")\n",
        "\n",
        "print(\"Total employees:\", Employee.get_employee_count())"
      ],
      "metadata": {
        "colab": {
          "base_uri": "https://localhost:8080/"
        },
        "id": "tV_CT6R7Qvz1",
        "outputId": "5538d6fc-0dd5-4e42-ddfe-861488b5755c"
      },
      "execution_count": null,
      "outputs": [
        {
          "output_type": "stream",
          "name": "stdout",
          "text": [
            "Total employees: 3\n"
          ]
        }
      ]
    },
    {
      "cell_type": "code",
      "source": [
        "#Q.58 Create a python class'StringFormatter'with a static method'reverse_string'that takes a string as input and returns its reverse."
      ],
      "metadata": {
        "id": "CYve5jhpQ1N0"
      },
      "execution_count": null,
      "outputs": []
    },
    {
      "cell_type": "code",
      "source": [
        "class StringFormatter:\n",
        "    @staticmethod\n",
        "    def reverse_string(s):\n",
        "        return s[::-1]\n",
        "\n",
        "result = StringFormatter.reverse_string(\"hello\")\n",
        "print(\"Reversed string:\", result)"
      ],
      "metadata": {
        "colab": {
          "base_uri": "https://localhost:8080/"
        },
        "id": "Sb7nTaB9RqhL",
        "outputId": "17c4d6fa-153d-413e-8b76-a96211fd1e84"
      },
      "execution_count": null,
      "outputs": [
        {
          "output_type": "stream",
          "name": "stdout",
          "text": [
            "Reversed string: olleh\n"
          ]
        }
      ]
    },
    {
      "cell_type": "code",
      "source": [
        "#Q.59 Create a python class'Circle'with a class method'calculate_area'that calculates the area of a circle given its radius"
      ],
      "metadata": {
        "id": "FBKWmsLIRwiC"
      },
      "execution_count": null,
      "outputs": []
    },
    {
      "cell_type": "code",
      "source": [
        "import math\n",
        "\n",
        "class Circle:\n",
        "    @classmethod\n",
        "    def calculate_area(cls, radius):\n",
        "        return math.pi * radius ** 2\n",
        "\n",
        "radius = 5\n",
        "area = Circle.calculate_area(radius)\n",
        "print(f\"Area of the circle with radius {radius}: {area:.2f}\")"
      ],
      "metadata": {
        "colab": {
          "base_uri": "https://localhost:8080/"
        },
        "id": "zqLygQ7tSdv4",
        "outputId": "a5b9462a-f5d3-40e0-bbae-6c14a6b57c64"
      },
      "execution_count": null,
      "outputs": [
        {
          "output_type": "stream",
          "name": "stdout",
          "text": [
            "Area of the circle with radius 5: 78.54\n"
          ]
        }
      ]
    },
    {
      "cell_type": "code",
      "source": [
        "#Q.60 Create a python class'TempreatureConverter'with a static method'celsius_to_fahrenheit'that converts Celsius_to_Fahrenheit that converts celsius to Fahrenheit."
      ],
      "metadata": {
        "id": "OK-33vqXSjs_"
      },
      "execution_count": 1,
      "outputs": []
    },
    {
      "cell_type": "code",
      "source": [
        "class TemperatureConverter:\n",
        "    @staticmethod\n",
        "    def celsius_to_fahrenheit(celsius):\n",
        "        return (celsius * 9/5) + 32\n",
        "\n",
        "temp_celsius = 25\n",
        "temp_fahrenheit = TemperatureConverter.celsius_to_fahrenheit(temp_celsius)\n",
        "print(f\"{temp_celsius}°C is equal to {temp_fahrenheit}°F.\")\n"
      ],
      "metadata": {
        "id": "hFZTvBPtUjkk",
        "colab": {
          "base_uri": "https://localhost:8080/"
        },
        "outputId": "f3bf5997-679f-45b9-d0ca-0db12a2f3268"
      },
      "execution_count": 3,
      "outputs": [
        {
          "output_type": "stream",
          "name": "stdout",
          "text": [
            "25°C is equal to 77.0°F.\n"
          ]
        }
      ]
    },
    {
      "cell_type": "code",
      "source": [
        "#Q.61 What is the purpose of the__str__()method in python classes?Provide an example."
      ],
      "metadata": {
        "id": "50x4JIZxVfQm"
      },
      "execution_count": 4,
      "outputs": []
    },
    {
      "cell_type": "code",
      "source": [
        "class Person:\n",
        "    def __init__(self, name, age):\n",
        "        self.name = name\n",
        "        self.age = age\n",
        "\n",
        "    def __str__(self):\n",
        "        return f\"Person(name={self.name}, age={self.age})\"\n",
        "\n",
        "person = Person(\"Alice\", 30)\n",
        "\n",
        "print(person)"
      ],
      "metadata": {
        "colab": {
          "base_uri": "https://localhost:8080/"
        },
        "id": "FSoXwGcmWUWG",
        "outputId": "14ab68bf-4742-41e1-d6d5-abd85b4a80ee"
      },
      "execution_count": 6,
      "outputs": [
        {
          "output_type": "stream",
          "name": "stdout",
          "text": [
            "Person(name=Alice, age=30)\n"
          ]
        }
      ]
    },
    {
      "cell_type": "code",
      "source": [
        "#Q.62 How does the__len__()method work in python?Provide an example."
      ],
      "metadata": {
        "id": "UO830dpxWbCc"
      },
      "execution_count": 7,
      "outputs": []
    },
    {
      "cell_type": "code",
      "source": [
        "class BookCollection:\n",
        "    def __init__(self, books):\n",
        "        self.books = books\n",
        "\n",
        "    def __len__(self):\n",
        "        return len(self.books)\n",
        "\n",
        "collection = BookCollection([\"Book A\", \"Book B\", \"Book C\"])\n",
        "\n",
        "print(len(collection))"
      ],
      "metadata": {
        "colab": {
          "base_uri": "https://localhost:8080/"
        },
        "id": "m08tdkbyXHVy",
        "outputId": "81283907-e398-42bc-e74c-bc2d985da635"
      },
      "execution_count": 8,
      "outputs": [
        {
          "output_type": "stream",
          "name": "stdout",
          "text": [
            "3\n"
          ]
        }
      ]
    },
    {
      "cell_type": "code",
      "source": [
        "#.63 Explain the usage of the__add__()method in python classes.Provide an example."
      ],
      "metadata": {
        "id": "Nih6zc2VXc4q"
      },
      "execution_count": 9,
      "outputs": []
    },
    {
      "cell_type": "code",
      "source": [
        "class Point:\n",
        "    def __init__(self, x, y):\n",
        "        self.x = x\n",
        "        self.y = y\n",
        "\n",
        "    def __add__(self, other):\n",
        "        return Point(self.x + other.x, self.y + other.y)\n",
        "\n",
        "    def __str__(self):\n",
        "        return f\"Point({self.x}, {self.y})\"\n",
        "\n",
        "point1 = Point(2, 3)\n",
        "point2 = Point(4, 1)\n",
        "\n",
        "result = point1 + point2\n",
        "\n",
        "print(result)"
      ],
      "metadata": {
        "colab": {
          "base_uri": "https://localhost:8080/"
        },
        "id": "d_fHeJ-3ZzCm",
        "outputId": "eb5d270f-7a6a-45f4-920c-2dd452f2a50f"
      },
      "execution_count": 11,
      "outputs": [
        {
          "output_type": "stream",
          "name": "stdout",
          "text": [
            "Point(6, 4)\n"
          ]
        }
      ]
    },
    {
      "cell_type": "code",
      "source": [
        "#Q.64 What is the purpose of the__getitem__()method in python?Provide an example."
      ],
      "metadata": {
        "id": "o3DH3z0vZ-v7"
      },
      "execution_count": 12,
      "outputs": []
    },
    {
      "cell_type": "code",
      "source": [
        "class CustomList:\n",
        "    def __init__(self, data):\n",
        "        self.data = data\n",
        "\n",
        "    def __getitem__(self, index):\n",
        "        return self.data[index]\n",
        "\n",
        "my_list = CustomList([10, 20, 30, 40, 50])\n",
        "\n",
        "print(my_list[0])\n",
        "print(my_list[3])"
      ],
      "metadata": {
        "colab": {
          "base_uri": "https://localhost:8080/"
        },
        "id": "XHnlShnWam96",
        "outputId": "424f6e8c-478f-4ed8-d40d-135772780793"
      },
      "execution_count": 15,
      "outputs": [
        {
          "output_type": "stream",
          "name": "stdout",
          "text": [
            "10\n",
            "40\n"
          ]
        }
      ]
    },
    {
      "cell_type": "code",
      "source": [
        "#Q.65 Explain the usage of the__iter__()and__next__()methods in python.Provide an example using iterators."
      ],
      "metadata": {
        "id": "tLu6YOl6a00R"
      },
      "execution_count": 16,
      "outputs": []
    },
    {
      "cell_type": "code",
      "source": [
        "class MyCounter:\n",
        "    def __init__(self, low, high):\n",
        "        self.current = low\n",
        "        self.high = high\n",
        "\n",
        "    def __iter__(self):\n",
        "        return self\n",
        "\n",
        "    def __next__(self):\n",
        "        if self.current <= self.high:\n",
        "            num = self.current\n",
        "            self.current += 1\n",
        "            return num\n",
        "        else:\n",
        "            raise StopIteration\n",
        "\n",
        "counter = MyCounter(1, 5)\n",
        "\n",
        "for num in counter:\n",
        "    print(num)"
      ],
      "metadata": {
        "colab": {
          "base_uri": "https://localhost:8080/"
        },
        "id": "lXfHlZJwbeGI",
        "outputId": "c75b491f-208c-4d55-ed2b-41a4b427b9d8"
      },
      "execution_count": 18,
      "outputs": [
        {
          "output_type": "stream",
          "name": "stdout",
          "text": [
            "1\n",
            "2\n",
            "3\n",
            "4\n",
            "5\n"
          ]
        }
      ]
    },
    {
      "cell_type": "code",
      "source": [
        "#Q.66 What is the purpose of a getter method in python?Provide an example demonstrating the use of a getter method using property decorators."
      ],
      "metadata": {
        "id": "hv4W8gFKbkR4"
      },
      "execution_count": 19,
      "outputs": []
    },
    {
      "cell_type": "code",
      "source": [
        "class Circle:\n",
        "    def __init__(self, radius):\n",
        "        self._radius = radius\n",
        "\n",
        "    @property\n",
        "    def radius(self):\n",
        "        return self._radius\n",
        "\n",
        "    @property\n",
        "    def area(self):\n",
        "        return 3.14159 * self._radius ** 2\n",
        "\n",
        "circle = Circle(5)\n",
        "\n",
        "print(\"Radius:\", circle.radius)\n",
        "\n",
        "print(\"Area:\", circle.area)"
      ],
      "metadata": {
        "colab": {
          "base_uri": "https://localhost:8080/"
        },
        "id": "ImkgcL9ddFoE",
        "outputId": "0d4e2dee-d9f0-4a9e-a071-98fbf2961bd2"
      },
      "execution_count": 21,
      "outputs": [
        {
          "output_type": "stream",
          "name": "stdout",
          "text": [
            "Radius: 5\n",
            "Area: 78.53975\n"
          ]
        }
      ]
    },
    {
      "cell_type": "code",
      "source": [
        "#Q.67Explain the role of setter methods in python.Demonstrate how to use a setter method to modify a class attribute using property decorators."
      ],
      "metadata": {
        "id": "pCEDTLxXdMR7"
      },
      "execution_count": 22,
      "outputs": []
    },
    {
      "cell_type": "code",
      "source": [
        "class Circle:\n",
        "    def __init__(self, radius):\n",
        "        self._radius = radius\n",
        "\n",
        "    @property\n",
        "    def radius(self):\n",
        "        return self._radius\n",
        "\n",
        "    @radius.setter\n",
        "    def radius(self, value):\n",
        "        if value < 0:\n",
        "            raise ValueError(\"Radius cannot be negative.\")\n",
        "        self._radius = value\n",
        "\n",
        "    @property\n",
        "    def area(self):\n",
        "        return 3.14159 * self._radius ** 2\n",
        "\n",
        "circle = Circle(5)\n",
        "\n",
        "print(\"Initial Radius:\", circle.radius)\n",
        "print(\"Initial Area:\", circle.area)\n",
        "\n",
        "circle.radius = 10\n",
        "print(\"\\nUpdated Radius:\", circle.radius)\n",
        "print(\"Updated Area:\", circle.area)\n",
        "\n",
        "try:\n",
        "    circle.radius = -3\n",
        "except ValueError as e:\n",
        "    print(\"\\nError:\", e)"
      ],
      "metadata": {
        "colab": {
          "base_uri": "https://localhost:8080/"
        },
        "id": "ZAlJ9o5LeXIq",
        "outputId": "d87af2c1-a2f4-4339-94e4-8f490473d245"
      },
      "execution_count": 24,
      "outputs": [
        {
          "output_type": "stream",
          "name": "stdout",
          "text": [
            "Initial Radius: 5\n",
            "Initial Area: 78.53975\n",
            "\n",
            "Updated Radius: 10\n",
            "Updated Area: 314.159\n",
            "\n",
            "Error: Radius cannot be negative.\n"
          ]
        }
      ]
    },
    {
      "cell_type": "code",
      "source": [
        "#Q.68 What is the purposeof the @property decorator in Python?Provide an example illustrating its usage."
      ],
      "metadata": {
        "id": "aj3K2-y6emxJ"
      },
      "execution_count": 25,
      "outputs": []
    },
    {
      "cell_type": "code",
      "source": [
        "class Rectangle:\n",
        "    def __init__(self, width, height):\n",
        "        self._width = width\n",
        "        self._height = height\n",
        "\n",
        "    @property\n",
        "    def width(self):\n",
        "        return self._width\n",
        "\n",
        "    @width.setter\n",
        "    def width(self, value):\n",
        "        if value <= 0:\n",
        "            raise ValueError(\"Width must be positive.\")\n",
        "        self._width = value\n",
        "\n",
        "    @property\n",
        "    def height(self):\n",
        "        return self._height\n",
        "\n",
        "    @height.setter\n",
        "    def height(self, value):\n",
        "        if value <= 0:\n",
        "            raise ValueError(\"Height must be positive.\")\n",
        "        self._height = value\n",
        "\n",
        "    @property\n",
        "    def area(self):\n",
        "        return self._width * self._height\n",
        "\n",
        "rect = Rectangle(10, 20)\n",
        "\n",
        "print(\"Width:\", rect.width)\n",
        "print(\"Height:\", rect.height)\n",
        "print(\"Area:\", rect.area)\n",
        "\n",
        "rect.width = 15\n",
        "rect.height = 25\n",
        "print(\"\\nUpdated Width:\", rect.width)\n",
        "print(\"Updated Height:\", rect.height)\n",
        "print(\"Updated Area:\", rect.area)\n",
        "\n",
        "try:\n",
        "    rect.width = -5\n",
        "except ValueError as e:\n",
        "    print(\"\\nError:\", e)"
      ],
      "metadata": {
        "colab": {
          "base_uri": "https://localhost:8080/"
        },
        "id": "at1Jsl0GfVNn",
        "outputId": "39a052c1-4b63-4f84-9e07-86031cc4fd75"
      },
      "execution_count": 27,
      "outputs": [
        {
          "output_type": "stream",
          "name": "stdout",
          "text": [
            "Width: 10\n",
            "Height: 20\n",
            "Area: 200\n",
            "\n",
            "Updated Width: 15\n",
            "Updated Height: 25\n",
            "Updated Area: 375\n",
            "\n",
            "Error: Width must be positive.\n"
          ]
        }
      ]
    },
    {
      "cell_type": "code",
      "source": [
        "#Q.69 Explain the use of the @deleter decorator in Python property decorators. Provide a code example demonstrating its application."
      ],
      "metadata": {
        "id": "LjOWCq0OfdWX"
      },
      "execution_count": 28,
      "outputs": []
    },
    {
      "cell_type": "code",
      "source": [
        "class Person:\n",
        "    def __init__(self, name, age):\n",
        "        self._name = name\n",
        "        self._age = age\n",
        "\n",
        "    @property\n",
        "    def name(self):\n",
        "        return self._name\n",
        "\n",
        "    @name.setter\n",
        "    def name(self, value):\n",
        "        if not value:\n",
        "            raise ValueError(\"Name cannot be empty.\")\n",
        "        self._name = value\n",
        "\n",
        "    @name.deleter\n",
        "    def name(self):\n",
        "        print(\"Deleting name...\")\n",
        "        del self._name\n",
        "\n",
        "    @property\n",
        "    def age(self):\n",
        "        return self._age\n",
        "\n",
        "person = Person(\"Alice\", 30)\n",
        "\n",
        "print(\"Name:\", person.name)\n",
        "person.name = \"Bob\"\n",
        "print(\"Updated Name:\", person.name)\n",
        "\n",
        "del person.name\n",
        "\n",
        "try:\n",
        "    print(person.name)\n",
        "except AttributeError as e:\n",
        "    print(\"Error:\", e)"
      ],
      "metadata": {
        "colab": {
          "base_uri": "https://localhost:8080/"
        },
        "id": "NI1DyFjvgh_0",
        "outputId": "c30de64d-663c-4638-f740-3422b2025507"
      },
      "execution_count": 31,
      "outputs": [
        {
          "output_type": "stream",
          "name": "stdout",
          "text": [
            "Name: Alice\n",
            "Updated Name: Bob\n",
            "Deleting name...\n",
            "Error: 'Person' object has no attribute '_name'\n"
          ]
        }
      ]
    },
    {
      "cell_type": "code",
      "source": [
        "#Q.70 How does encapsulation relate to property decorators in Python? Provide an example showcasing encapsulation using property decorators."
      ],
      "metadata": {
        "id": "hffb6EhKg0x0"
      },
      "execution_count": 32,
      "outputs": []
    },
    {
      "cell_type": "code",
      "source": [
        "class BankAccount:\n",
        "    def __init__(self, account_number, balance):\n",
        "        self._account_number = account_number\n",
        "        self._balance = balance\n",
        "\n",
        "    @property\n",
        "    def balance(self):\n",
        "        return self._balance\n",
        "\n",
        "    @balance.setter\n",
        "    def balance(self, value):\n",
        "        if value < 0:\n",
        "            raise ValueError(\"Balance cannot be negative.\")\n",
        "        self._balance = value\n",
        "\n",
        "    @property\n",
        "    def account_number(self):\n",
        "        return self._account_number\n",
        "\n",
        "    def deposit(self, amount):\n",
        "        if amount > 0:\n",
        "            self._balance += amount\n",
        "        else:\n",
        "            raise ValueError(\"Deposit amount must be positive.\")\n",
        "\n",
        "    def withdraw(self, amount):\n",
        "        if 0 < amount <= self._balance:\n",
        "            self._balance -= amount\n",
        "        else:\n",
        "            raise ValueError(\"Insufficient funds or invalid amount.\")\n",
        "\n",
        "account = BankAccount(\"123456\", 1000)\n",
        "\n",
        "print(\"Initial Balance:\", account.balance)\n",
        "\n",
        "account.deposit(500)\n",
        "print(\"Balance after deposit:\", account.balance)\n",
        "\n",
        "account.withdraw(300)\n",
        "print(\"Balance after withdrawal:\", account.balance)\n",
        "\n",
        "try:\n",
        "    account.balance = -100\n",
        "except ValueError as e:\n",
        "    print(\"Error:\", e)\n",
        "\n",
        "print(\"Account Number:\", account.account_number)\n",
        "\n",
        "try:\n",
        "    account.account_number = \"654321\"\n",
        "except AttributeError as e:\n",
        "    print(\"Error:\", e)\n"
      ],
      "metadata": {
        "colab": {
          "base_uri": "https://localhost:8080/"
        },
        "id": "WH_DKOZ9hhML",
        "outputId": "1d096e3b-2f58-418c-f8fc-66c33c9afa42"
      },
      "execution_count": 34,
      "outputs": [
        {
          "output_type": "stream",
          "name": "stdout",
          "text": [
            "Initial Balance: 1000\n",
            "Balance after deposit: 1500\n",
            "Balance after withdrawal: 1200\n",
            "Error: Balance cannot be negative.\n",
            "Account Number: 123456\n",
            "Error: can't set attribute 'account_number'\n"
          ]
        }
      ]
    },
    {
      "cell_type": "code",
      "source": [],
      "metadata": {
        "id": "rHZZTLROhrfa"
      },
      "execution_count": null,
      "outputs": []
    }
  ]
}